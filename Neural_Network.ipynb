{
 "cells": [
  {
   "cell_type": "code",
   "execution_count": 33,
   "metadata": {
    "collapsed": false
   },
   "outputs": [],
   "source": [
    "%matplotlib inline\n",
    "import numpy as np\n",
    "import matplotlib.pyplot as plt\n",
    "import os\n",
    "import sys\n",
    "import keras\n",
    "from keras.models import Sequential\n",
    "from keras.layers import Dense, Dropout, Activation, Flatten, Convolution2D, BatchNormalization, MaxPooling2D\n",
    "from keras.wrappers.scikit_learn import KerasRegressor\n",
    "from sklearn.model_selection import cross_val_score\n",
    "from sklearn.model_selection import KFold\n",
    "from sklearn.preprocessing import StandardScaler\n",
    "from sklearn.pipeline import Pipeline"
   ]
  },
  {
   "cell_type": "code",
   "execution_count": 2,
   "metadata": {
    "collapsed": true
   },
   "outputs": [],
   "source": [
    "input_data = np.array(np.load('./charge.npy'))\n",
    "output_data = np.load('./truevals.npy')"
   ]
  },
  {
   "cell_type": "code",
   "execution_count": 3,
   "metadata": {
    "collapsed": false
   },
   "outputs": [
    {
     "name": "stdout",
     "output_type": "stream",
     "text": [
      "Shape of Input Data: (3081, 86, 64)\n",
      "Shape of Output Data: (3081, 3)\n"
     ]
    }
   ],
   "source": [
    "print 'Shape of Input Data: {}'.format(np.shape(input_data))\n",
    "print 'Shape of Output Data: {}'.format(np.shape(output_data))"
   ]
  },
  {
   "cell_type": "code",
   "execution_count": 4,
   "metadata": {
    "collapsed": false
   },
   "outputs": [
    {
     "name": "stdout",
     "output_type": "stream",
     "text": [
      "Range of training dataset 0:1320\n",
      "Range of validation dataset 1321:2200\n",
      "Range of test dataset 2201:3081\n"
     ]
    }
   ],
   "source": [
    "tvt_ratio=[3,2,2] ##ratio of test validation and test dataset\n",
    "data_len = len(input_data)\n",
    "test_end = int(float(tvt_ratio[0])/np.sum(tvt_ratio)*data_len)\n",
    "valid_end = int(float(tvt_ratio[1])/np.sum(tvt_ratio)*data_len)+test_end\n",
    "print 'Range of training dataset {}:{}'.format(0,test_end)\n",
    "print 'Range of validation dataset {}:{}'.format(test_end+1,valid_end)\n",
    "print 'Range of test dataset {}:{}'.format(valid_end+1,data_len)"
   ]
  },
  {
   "cell_type": "code",
   "execution_count": 22,
   "metadata": {
    "collapsed": false
   },
   "outputs": [
    {
     "name": "stdout",
     "output_type": "stream",
     "text": [
      "_________________________________________________________________\n",
      "Layer (type)                 Output Shape              Param #   \n",
      "=================================================================\n",
      "conv2d_14 (Conv2D)           (None, 77, 60, 8)         408       \n",
      "_________________________________________________________________\n",
      "batch_normalization_12 (Batc (None, 77, 60, 8)         32        \n",
      "_________________________________________________________________\n",
      "activation_12 (Activation)   (None, 77, 60, 8)         0         \n",
      "_________________________________________________________________\n",
      "flatten_12 (Flatten)         (None, 36960)             0         \n",
      "_________________________________________________________________\n",
      "dense_23 (Dense)             (None, 20)                739220    \n",
      "_________________________________________________________________\n",
      "dense_24 (Dense)             (None, 1)                 21        \n",
      "=================================================================\n",
      "Total params: 739,681\n",
      "Trainable params: 739,665\n",
      "Non-trainable params: 16\n",
      "_________________________________________________________________\n",
      "None\n"
     ]
    },
    {
     "name": "stderr",
     "output_type": "stream",
     "text": [
      "/cvmfs/icecube.opensciencegrid.org/py2-v2/RHEL_6_x86_64/lib/python2.7/site-packages/IPython/kernel/__main__.py:55: UserWarning: Update your `Conv2D` call to the Keras 2 API: `Conv2D(8, (10, 5), input_shape=(86, 64, 1...)`\n"
     ]
    }
   ],
   "source": [
    "# # ---------------------------------------------------------\n",
    "# # Boilerplate. You can ignore this part.\n",
    "# # ---------------------------------------------------------\n",
    "# # try:\n",
    "# #     CONDOR_ID = os.environ['CONDOR_ID']\n",
    "# # except:\n",
    "# #     sys.exit('Error: Run this script with \"pygpu %file\"')\n",
    "\n",
    "# # folder = 'train-DCNN-%s' % CONDOR_ID  # folder for training results\n",
    "# # os.makedirs(folder)\n",
    "\n",
    "# # limit available GPU memory to allow for 2 jobs per GPU, please do not change!\n",
    "# # config = tf.ConfigProto(gpu_options=tf.GPUOptions(per_process_gpu_memory_fraction=0.45))\n",
    "# # keras.backend.tensorflow_backend.set_session(tf.Session(config=config))\n",
    "# # ---------------------------------------------------------\n",
    "\n",
    "\n",
    "# # split train, validation and test samples\n",
    "folders=['train_hist']\n",
    "for folder in folders:\n",
    "    if not folder in os.listdir('.'):\n",
    "        os.makedirs('./{}'.format(folder))\n",
    "train = input_data[0:test_end]\n",
    "valid = input_data[test_end+1:valid_end]\n",
    "test  = input_data[valid_end+1:data_len-1]\n",
    "train_out = np.concatenate(output_data[0:test_end,0:1])\n",
    "valid_out = np.concatenate(output_data[test_end+1:valid_end, 0:1])\n",
    "test_out = np.concatenate(output_data[valid_end+1:data_len-1, 0:1])\n",
    "\n",
    "\n",
    "# # ----------------------------------------------------------\n",
    "# # Define model\n",
    "# # ----------------------------------------------------------\n",
    "\n",
    "\n",
    "def add_block(model, nfilters, dropout=False, **kwargs):\n",
    "    \"\"\" \n",
    "    Add basic convolution block: \n",
    "     - 3x3 Convolution with padding\n",
    "     - Activation: ReLU\n",
    "     - either MaxPooling to reduce resolution, or Dropout\n",
    "     - BatchNormalization\n",
    "    \"\"\"\n",
    "    model.add(Convolution2D(nfilters, 10, 5, **kwargs)) #border_mode='same', init=\"he_normal\", \n",
    "    model.add(BatchNormalization())\n",
    "    model.add(Activation('relu'))\n",
    "    if dropout:\n",
    "        model.add(Dropout(dropout))\n",
    "    else:\n",
    "        model.add(MaxPooling2D((2, 2), border_mode='same'))\n",
    "\n",
    "def base_model():\n",
    "    # # convolution part\n",
    "    model = Sequential()\n",
    "    model.add(Convolution2D(8, 10, 5,input_shape=(86, 64,1))) #border_mode='same', init=\"he_normal\", \n",
    "    model.add(BatchNormalization())\n",
    "    model.add(Activation('relu'))\n",
    "    \n",
    "    ##possible things to implement\n",
    "    \n",
    "    #model.add(Dropout(dropout))\n",
    "    #model.add(MaxPooling2D((2, 2), border_mode='same'))\n",
    "    \n",
    "    model.add(Flatten()) \n",
    "    model.add(Dense(20, kernel_initializer='normal', activation='relu'))\n",
    "    model.add(Dense(1, kernel_initializer='normal'))\n",
    "    print(model.summary())\n",
    "    model.compile(loss='mean_squared_error', optimizer='adam',metrics=['accuracy'])\n",
    "    return model\n",
    "\n",
    "\n",
    "# # ----------------------------------------------------------\n",
    "# # Training\n",
    "# # ----------------------------------------------------------\n",
    "\n",
    "estimator = KerasRegressor(build_fn=base_model, nb_epoch=20, batch_size=5, verbose=0)\n",
    "seed = 7\n",
    "np.random.seed(seed)\n",
    "\n",
    "estimator.fit(np.expand_dims(train, axis=4),train_out,\n",
    "              callbacks=[keras.callbacks.CSVLogger(folder +'./train_hist/history.csv')]))\n",
    "model.save('./train_hist/model.h5')  # save trained network\n",
    "\n",
    "# print('Model performance (loss, accuracy)')\n",
    "# print('Train: %.4f, %.4f' % tuple(model.evaluate(train, verbose=0, batch_size=128)))\n",
    "# print('Valid: %.4f, %.4f' % tuple(model.evaluate(valid, verbose=0, batch_size=128)))\n",
    "# print('Test:  %.4f, %.4f' % tuple(model.evaluate(test,  verbose=0, batch_size=128)))"
   ]
  },
  {
   "cell_type": "code",
   "execution_count": 31,
   "metadata": {
    "collapsed": false
   },
   "outputs": [
    {
     "data": {
      "text/plain": [
       "4789307222437.7158"
      ]
     },
     "execution_count": 31,
     "metadata": {},
     "output_type": "execute_result"
    }
   ],
   "source": [
    "res = estimator.predict(np.expand_dims(test, axis=4))\n",
    "\n",
    "## line below throws an error\n",
    "estimator.score(np.expand_dims(test, axis=4),test_out)"
   ]
  },
  {
   "cell_type": "code",
   "execution_count": 30,
   "metadata": {
    "collapsed": false
   },
   "outputs": [],
   "source": [
    "valid_out = np.concatenate(output_data[test_end+1:valid_end, 0:1])\n",
    "test_out = np.concatenate(output_data[valid_end+1:data_len-1, 0:1])"
   ]
  },
  {
   "cell_type": "code",
   "execution_count": 35,
   "metadata": {
    "collapsed": false,
    "scrolled": true
   },
   "outputs": [
    {
     "data": {
      "image/png": "[encoded data removed]",
      "text/plain": [
       "<matplotlib.figure.Figure at 0x7f4b5b6e77d0>"
      ]
     },
     "metadata": {},
     "output_type": "display_data"
    }
   ],
   "source": [
    "plt.scatter(test_out, res)\n",
    "plt.show()"
   ]
  },
  {
   "cell_type": "code",
   "execution_count": null,
   "metadata": {
    "collapsed": true
   },
   "outputs": [],
   "source": [
    "# # ----------------------------------------------------------\n",
    "# # Plots\n",
    "# # ----------------------------------------------------------\n",
    "# # training curves\n",
    "# history = np.genfromtxt(folder+'/history.csv', delimiter=',', names=True)\n",
    "\n",
    "# # fig, ax = plt.subplots(1)\n",
    "# # ax.plot(history['epoch'], history['loss'],     label='training')\n",
    "# # ax.plot(history['epoch'], history['val_loss'], label='validation')\n",
    "# # ax.legend()\n",
    "# # ax.set(xlabel='epoch', ylabel='loss')\n",
    "# # fig.savefig(folder+'/loss.png')\n",
    "\n",
    "# # fig, ax = plt.subplots(1)\n",
    "# # ax.plot(history['epoch'], history['acc'],     label='training')\n",
    "# # ax.plot(history['epoch'], history['val_acc'], label='validation')\n",
    "# # ax.legend()\n",
    "# # ax.set(xlabel='epoch', ylabel='accuracy')\n",
    "# # fig.savefig(folder+'/accuracy.png')"
   ]
  }
 ],
 "metadata": {
  "kernelspec": {
   "display_name": "Python 2",
   "language": "python",
   "name": "python2"
  },
  "language_info": {
   "codemirror_mode": {
    "name": "ipython",
    "version": 2
   },
   "file_extension": ".py",
   "mimetype": "text/x-python",
   "name": "python",
   "nbconvert_exporter": "python",
   "pygments_lexer": "ipython2",
   "version": "2.7.10"
  }
 },
 "nbformat": 4,
 "nbformat_minor": 0
}
