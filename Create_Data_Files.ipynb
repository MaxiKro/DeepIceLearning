{
 "cells": [
  {
   "cell_type": "code",
   "execution_count": 1,
   "metadata": {
    "collapsed": true
   },
   "outputs": [],
   "source": [
    "%matplotlib inline\n",
    "from icecube import dataclasses, dataio\n",
    "import os\n",
    "import numpy as np\n",
    "import itertools\n",
    "import matplotlib.pyplot as plt"
   ]
  },
  {
   "cell_type": "code",
   "execution_count": 2,
   "metadata": {
    "collapsed": false
   },
   "outputs": [],
   "source": [
    "folderpath = '/data/ana/PointSource/PS/IC86_2012/files/sim/2012/neutrino-generator/11069/00000-00999/'\n",
    "filelist = [ f_name for f_name in os.listdir(folderpath) if f_name[-6:]=='i3.bz2']"
   ]
  },
  {
   "cell_type": "code",
   "execution_count": 3,
   "metadata": {
    "collapsed": false
   },
   "outputs": [],
   "source": [
    "\n",
    "DOM_List_Expanded = list(itertools.product(range(1, 87),range(1,65)))\n",
    "# charge_arr=[[] for i in range(len(DOM_List_Expanded))]\n",
    "# time_arr=[[] for i in range(len(DOM_List_Expanded))]\n",
    "charge_arr = []\n",
    "time_arr = []\n",
    "trueval_arr = []\n",
    "#trueval_arr=[[] for i in range(3)]\n",
    "geometry_file='/data/sim/sim-new/downloads/GCD/GeoCalibDetectorStatus_2012.56063_V0.i3.gz'\n",
    "geometry = dataio.I3File(geometry_file)\n",
    "geo = geometry.pop_frame()['I3Geometry'].omgeo\n",
    "DOM_List = geo.keys() ## Currently unused"
   ]
  },
  {
   "cell_type": "code",
   "execution_count": 4,
   "metadata": {
    "collapsed": false
   },
   "outputs": [],
   "source": [
    "#print physics_event.keys()"
   ]
  },
  {
   "cell_type": "code",
   "execution_count": 56,
   "metadata": {
    "collapsed": false
   },
   "outputs": [],
   "source": [
    "j=0\n",
    "for counter, in_file in enumerate(filelist):\n",
    "    if counter>10:\n",
    "        break\n",
    "    event_file = dataio.I3File(os.path.join(folderpath, in_file))\n",
    "    while event_file.more():\n",
    "            charge_arr.append(np.zeros((86,64)))\n",
    "            time_arr.append(np.full((86,64), np.inf))\n",
    "            physics_event = event_file.pop_physics()\n",
    "            pulses = physics_event['InIceDSTPulses'].apply(physics_event)\n",
    "            final_dict = dict()\n",
    "            for omkey in pulses.keys():\n",
    "                    temp_time = []\n",
    "                    temp_charge = []\n",
    "                    t_zero = np.inf\n",
    "                    for pulse in pulses[omkey]:\n",
    "                        temp_time.append(pulse.time)\n",
    "                        temp_charge.append(pulse.charge)\n",
    "                    final_dict['({},{})'.format(omkey.string, omkey.om)] = (np.mean(temp_charge) ,np.mean(temp_time))\n",
    "                    if np.mean(temp_time)<t_zero:\n",
    "                        t_zero = np.mean(temp_time)\n",
    "            for dom in DOM_List_Expanded:\n",
    "                dom_str = str(dom).replace(' ', '')\n",
    "                if  dom_str in final_dict:\n",
    "                    charge_arr[j][dom[0]-1][dom[1]-1] = final_dict[dom_str][0]\n",
    "                    time_arr[j][dom[0]-1][dom[1]-1] = final_dict[dom_str][1]\n",
    "                else:\n",
    "                    charge_arr[j][dom[0]-1][dom[1]-1] = 0\n",
    "                    time_arr[j][dom[0]-1][dom[1]-1] = np.inf\n",
    "            energy = physics_event['MCMostEnergeticTrack'].energy\n",
    "            azmiuth = physics_event['MCMostEnergeticTrack'].dir.azimuth \n",
    "            zenith = physics_event['MCMostEnergeticTrack'].dir.zenith\n",
    "            trueval_arr.append([energy,azmiuth, zenith])\n",
    "            j+=1"
   ]
  },
  {
   "cell_type": "code",
   "execution_count": 6,
   "metadata": {
    "collapsed": false
   },
   "outputs": [
    {
     "name": "stdout",
     "output_type": "stream",
     "text": [
      "(405, 86, 64)\n"
     ]
    }
   ],
   "source": [
    "print np.shape(charge_arr)"
   ]
  },
  {
   "cell_type": "code",
   "execution_count": 15,
   "metadata": {
    "collapsed": false
   },
   "outputs": [
    {
     "name": "stdout",
     "output_type": "stream",
     "text": [
      "(86, 64)\n",
      "[(1, 1), (1, 2), (1, 3), (1, 4), (1, 5), (1, 6), (1, 7), (1, 8), (1, 9), (1, 10)]\n"
     ]
    }
   ],
   "source": [
    "print np.shape(time_arr[0])\n",
    "print np.shape(DOM_List_Expanded)"
   ]
  },
  {
   "cell_type": "code",
   "execution_count": 35,
   "metadata": {
    "collapsed": true
   },
   "outputs": [],
   "source": [
    "test = np.array(list(itertools.product(range(1, 87),range(1,65))))"
   ]
  },
  {
   "cell_type": "code",
   "execution_count": 38,
   "metadata": {
    "collapsed": false
   },
   "outputs": [
    {
     "name": "stdout",
     "output_type": "stream",
     "text": [
      "[ 1  1  1 ..., 86 86 86]\n"
     ]
    }
   ],
   "source": [
    "print np.concatenate(test[:,0:1])"
   ]
  },
  {
   "cell_type": "code",
   "execution_count": 67,
   "metadata": {
    "collapsed": false
   },
   "outputs": [],
   "source": [
    "time_mask = np.ma.array(np.concatenate(time_arr[7]))\n",
    "time_mask.mask = np.isinf(time_mask)"
   ]
  },
  {
   "cell_type": "code",
   "execution_count": 70,
   "metadata": {
    "collapsed": false
   },
   "outputs": [
    {
     "name": "stdout",
     "output_type": "stream",
     "text": [
      "[-- -- -- ..., -- -- --]\n"
     ]
    }
   ],
   "source": [
    "print time_mask"
   ]
  },
  {
   "cell_type": "code",
   "execution_count": 72,
   "metadata": {
    "collapsed": false
   },
   "outputs": [
    {
     "data": {
      "text/plain": [
       "<matplotlib.collections.PathCollection at 0x7f0b836f1910>"
      ]
     },
     "execution_count": 72,
     "metadata": {},
     "output_type": "execute_result"
    },
    {
     "data": {
      "image/png": "[encoded data removed]",
      "text/plain": [
       "<matplotlib.figure.Figure at 0x7f0b8357bf90>"
      ]
     },
     "metadata": {},
     "output_type": "display_data"
    }
   ],
   "source": [
    "plt.scatter(np.concatenate(test[:,0:1]), np.concatenate(test[:,1:2]), s=np.concatenate(charge_arr[0]))"
   ]
  },
  {
   "cell_type": "code",
   "execution_count": 63,
   "metadata": {
    "collapsed": false
   },
   "outputs": [],
   "source": [
    "dtype_doms=zip(DOM_List_Expanded,[np.float64]*(len(DOM_List_Expanded)))\n",
    "dtype_true=zip(['Zenith', 'Azimuth', 'Track_Energy'],[np.float64]*3)"
   ]
  },
  {
   "cell_type": "code",
   "execution_count": 74,
   "metadata": {
    "collapsed": false
   },
   "outputs": [],
   "source": [
    "np.save('truevals.npy', np.array(trueval_arr))\n",
    "np.save('time.npy', np.array(time_arr))\n",
    "np.save('charge.npy', np.array(charge_arr))"
   ]
  },
  {
   "cell_type": "code",
   "execution_count": 65,
   "metadata": {
    "collapsed": false
   },
   "outputs": [],
   "source": [
    "# np.save('truevals.npy', np.array(zip(*trueval_arr), dtype=dtype_true))\n",
    "# np.save('time.npy', np.array(zip(*time_arr), dtype=dtype_doms))\n",
    "# np.save('charge.npy', np.array(zip(*charge_arr), dtype=dtype_doms))"
   ]
  },
  {
   "cell_type": "code",
   "execution_count": 54,
   "metadata": {
    "collapsed": false
   },
   "outputs": [
    {
     "name": "stdout",
     "output_type": "stream",
     "text": [
      "211\n"
     ]
    }
   ],
   "source": [
    "print len(np.array(zip(*charge_arr), dtype=dtype_doms)['(10,1)'])"
   ]
  },
  {
   "cell_type": "code",
   "execution_count": 47,
   "metadata": {
    "collapsed": false
   },
   "outputs": [
    {
     "name": "stdout",
     "output_type": "stream",
     "text": [
      "3\n",
      "5504\n"
     ]
    }
   ],
   "source": [
    "print len(zip(*trueval_arr)[0])\n",
    "print len(dtype)"
   ]
  },
  {
   "cell_type": "code",
   "execution_count": 20,
   "metadata": {
    "collapsed": false,
    "scrolled": true
   },
   "outputs": [],
   "source": [
    "# string_num = np.concatenate(DOM_List[:,0:1])\n",
    "# for string in np.arange(1,87):\n",
    "#     print('{} DOMs on string {}'.format(len(np.where(string_num==string)[0]), string))"
   ]
  },
  {
   "cell_type": "code",
   "execution_count": 21,
   "metadata": {
    "collapsed": false
   },
   "outputs": [],
   "source": [
    "# print final_dict"
   ]
  },
  {
   "cell_type": "code",
   "execution_count": 22,
   "metadata": {
    "collapsed": false
   },
   "outputs": [],
   "source": [
    "#print val_arr"
   ]
  },
  {
   "cell_type": "code",
   "execution_count": 25,
   "metadata": {
    "collapsed": true
   },
   "outputs": [],
   "source": [
    "dtype=zip(DOM_List_Expanded, [(np.float64,np.float64)]*(len(DOM_List_Expanded)-3)+3*[(np.float64)])"
   ]
  },
  {
   "cell_type": "code",
   "execution_count": 26,
   "metadata": {
    "collapsed": false
   },
   "outputs": [
    {
     "name": "stdout",
     "output_type": "stream",
     "text": [
      "[('(1,1)', (<type 'numpy.float64'>, <type 'numpy.float64'>)), ('(1,2)', (<type 'numpy.float64'>, <type 'numpy.float64'>)), ('(1,3)', (<type 'numpy.float64'>, <type 'numpy.float64'>)), ('(1,4)', (<type 'numpy.float64'>, <type 'numpy.float64'>)), ('(1,5)', (<type 'numpy.float64'>, <type 'numpy.float64'>)), ('(1,6)', (<type 'numpy.float64'>, <type 'numpy.float64'>)), ('(1,7)', (<type 'numpy.float64'>, <type 'numpy.float64'>)), ('(1,8)', (<type 'numpy.float64'>, <type 'numpy.float64'>)), ('(1,9)', (<type 'numpy.float64'>, <type 'numpy.float64'>)), ('(1,10)', (<type 'numpy.float64'>, <type 'numpy.float64'>)), ('(1,11)', (<type 'numpy.float64'>, <type 'numpy.float64'>)), ('(1,12)', (<type 'numpy.float64'>, <type 'numpy.float64'>)), ('(1,13)', (<type 'numpy.float64'>, <type 'numpy.float64'>)), ('(1,14)', (<type 'numpy.float64'>, <type 'numpy.float64'>)), ('(1,15)', (<type 'numpy.float64'>, <type 'numpy.float64'>)), ('(1,16)', (<type 'numpy.float64'>, <type 'numpy.float64'>)), ('(1,17)', (<type 'numpy.float64'>, <type 'numpy.float64'>)), ('(1,18)', (<type 'numpy.float64'>, <type 'numpy.float64'>)), ('(1,19)', (<type 'numpy.float64'>, <type 'numpy.float64'>)), ('(1,20)', (<type 'numpy.float64'>, <type 'numpy.float64'>))]\n"
     ]
    }
   ],
   "source": [
    "print dtype[0:20]"
   ]
  },
  {
   "cell_type": "code",
   "execution_count": 27,
   "metadata": {
    "collapsed": false
   },
   "outputs": [
    {
     "ename": "ValueError",
     "evalue": "setting an array element with a sequence.",
     "output_type": "error",
     "traceback": [
      "\u001b[1;31m---------------------------------------------------------------------------\u001b[0m",
      "\u001b[1;31mValueError\u001b[0m                                Traceback (most recent call last)",
      "\u001b[1;32m<ipython-input-27-d778569d1544>\u001b[0m in \u001b[0;36m<module>\u001b[1;34m()\u001b[0m\n\u001b[1;32m----> 1\u001b[1;33m \u001b[0moutput_array\u001b[0m\u001b[1;33m=\u001b[0m\u001b[0mnp\u001b[0m\u001b[1;33m.\u001b[0m\u001b[0marray\u001b[0m\u001b[1;33m(\u001b[0m\u001b[0mzip\u001b[0m\u001b[1;33m(\u001b[0m\u001b[1;33m*\u001b[0m\u001b[0mval_arr\u001b[0m\u001b[1;33m)\u001b[0m\u001b[1;33m,\u001b[0m \u001b[0mdtype\u001b[0m \u001b[1;33m=\u001b[0m \u001b[0mdtype\u001b[0m\u001b[1;33m)\u001b[0m\u001b[1;33m\u001b[0m\u001b[0m\n\u001b[0m",
      "\u001b[1;31mValueError\u001b[0m: setting an array element with a sequence."
     ]
    }
   ],
   "source": [
    "output_array=np.array(zip(*val_arr), dtype = dtype)"
   ]
  },
  {
   "cell_type": "code",
   "execution_count": 266,
   "metadata": {
    "collapsed": false
   },
   "outputs": [
    {
     "name": "stdout",
     "output_type": "stream",
     "text": [
      "[('(86,58)', (<type 'numpy.float64'>, <type 'numpy.float64'>)), ('(86,59)', (<type 'numpy.float64'>, <type 'numpy.float64'>)), ('(86,60)', (<type 'numpy.float64'>, <type 'numpy.float64'>)), ('(86,61)', (<type 'numpy.float64'>, <type 'numpy.float64'>)), ('(86,62)', (<type 'numpy.float64'>, <type 'numpy.float64'>)), ('(86,63)', (<type 'numpy.float64'>, <type 'numpy.float64'>)), ('(86,64)', (<type 'numpy.float64'>, <type 'numpy.float64'>)), ('Zenith', <type 'numpy.float64'>), ('Azimuth', <type 'numpy.float64'>), ('Track_Energy', <type 'numpy.float64'>)]\n"
     ]
    }
   ],
   "source": [
    "print dtype[-10:]"
   ]
  },
  {
   "cell_type": "code",
   "execution_count": 246,
   "metadata": {
    "collapsed": false
   },
   "outputs": [
    {
     "name": "stdout",
     "output_type": "stream",
     "text": [
      "5504\n",
      "5507\n"
     ]
    }
   ],
   "source": [
    "print len(dtype)\n",
    "print len(val_arr)"
   ]
  },
  {
   "cell_type": "code",
   "execution_count": 135,
   "metadata": {
    "collapsed": false
   },
   "outputs": [
    {
     "name": "stdout",
     "output_type": "stream",
     "text": [
      "[(1.9048496847770642, 5.33505864133153, 18828.13737195381), (2.9148686603875174, 5.880295817518997, 306.489950524923)]\n"
     ]
    }
   ],
   "source": [
    "print zip(*val_arr[-3:])"
   ]
  },
  {
   "cell_type": "code",
   "execution_count": 197,
   "metadata": {
    "collapsed": false
   },
   "outputs": [
    {
     "name": "stdout",
     "output_type": "stream",
     "text": [
      "[[0 0]\n",
      " [0 0]\n",
      " [0 0]\n",
      " ..., \n",
      " [0 0]\n",
      " [0 0]\n",
      " [0 0]]\n"
     ]
    }
   ],
   "source": [
    "print output_array[0]"
   ]
  },
  {
   "cell_type": "code",
   "execution_count": 21,
   "metadata": {
    "collapsed": false
   },
   "outputs": [],
   "source": [
    "dtype= [\n",
    "        ('test1' , np.float32, 2),\n",
    "        ('test2' , np.float32, 2),\n",
    "        ('test3' , np.float32),\n",
    "        ]\n",
    "\n",
    "test_arr = [[(1,2), (3,4), (5,6)],[(7,8), (9,10), (11,12)],[13,14]]\n",
    "\n",
    "output = np.array(zip(*test_arr), dtype= dtype)"
   ]
  },
  {
   "cell_type": "code",
   "execution_count": 28,
   "metadata": {
    "collapsed": false
   },
   "outputs": [
    {
     "ename": "ValueError",
     "evalue": "all the input arrays must have same number of dimensions",
     "output_type": "error",
     "traceback": [
      "\u001b[1;31m---------------------------------------------------------------------------\u001b[0m",
      "\u001b[1;31mValueError\u001b[0m                                Traceback (most recent call last)",
      "\u001b[1;32m<ipython-input-28-0c5345beda48>\u001b[0m in \u001b[0;36m<module>\u001b[1;34m()\u001b[0m\n\u001b[1;32m----> 1\u001b[1;33m \u001b[1;32mprint\u001b[0m \u001b[0mnp\u001b[0m\u001b[1;33m.\u001b[0m\u001b[0mconcatenate\u001b[0m\u001b[1;33m(\u001b[0m\u001b[0moutput\u001b[0m\u001b[1;33m[\u001b[0m\u001b[1;36m0\u001b[0m\u001b[1;33m]\u001b[0m\u001b[1;33m)\u001b[0m\u001b[1;33m\u001b[0m\u001b[0m\n\u001b[0m",
      "\u001b[1;31mValueError\u001b[0m: all the input arrays must have same number of dimensions"
     ]
    }
   ],
   "source": [
    "print np.concatenate(output[0])"
   ]
  },
  {
   "cell_type": "code",
   "execution_count": null,
   "metadata": {
    "collapsed": true
   },
   "outputs": [],
   "source": []
  }
 ],
 "metadata": {
  "kernelspec": {
   "display_name": "Python 2",
   "language": "python",
   "name": "python2"
  },
  "language_info": {
   "codemirror_mode": {
    "name": "ipython",
    "version": 2
   },
   "file_extension": ".py",
   "mimetype": "text/x-python",
   "name": "python",
   "nbconvert_exporter": "python",
   "pygments_lexer": "ipython2",
   "version": "2.7.10"
  }
 },
 "nbformat": 4,
 "nbformat_minor": 0
}
