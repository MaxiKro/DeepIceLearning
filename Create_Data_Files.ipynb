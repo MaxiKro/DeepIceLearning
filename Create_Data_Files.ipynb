{
 "cells": [
  {
   "cell_type": "code",
   "execution_count": 1,
   "metadata": {
    "collapsed": true
   },
   "outputs": [],
   "source": [
    "%matplotlib inline\n",
    "from icecube import dataclasses, dataio, icetray\n",
    "import os\n",
    "import numpy as np\n",
    "import itertools\n",
    "import matplotlib.pyplot as plt\n",
    "from mpl_toolkits.mplot3d import Axes3D\n",
    "import math"
   ]
  },
  {
   "cell_type": "code",
   "execution_count": 2,
   "metadata": {
    "collapsed": true
   },
   "outputs": [],
   "source": [
    "#######config\n",
    "input_shape = [20,20,50]"
   ]
  },
  {
   "cell_type": "code",
   "execution_count": 3,
   "metadata": {
    "collapsed": false
   },
   "outputs": [
    {
     "name": "stdout",
     "output_type": "stream",
     "text": [
      "2\n"
     ]
    }
   ],
   "source": [
    "print int(math.floor(2.2))"
   ]
  },
  {
   "cell_type": "code",
   "execution_count": 4,
   "metadata": {
    "collapsed": true
   },
   "outputs": [],
   "source": [
    "def make_grid_dict(input_shape, geometry):\n",
    "    \"\"\"Put the Icecube Geometry in a cubic grid. For each DOM calculate the grid position\n",
    "\n",
    "    Arguments:\n",
    "    input_shape : The shape of the grid (x,y,z)\n",
    "    geometry : Geometry file containing the positions of the DOMs in the Detector\n",
    "    \"\"\"\n",
    "    \n",
    "    grid = dict()\n",
    "    DOM_List = geometry.keys()\n",
    "    xpos=[geo[i].position.x for i in DOM_List]\n",
    "    ypos=[geo[i].position.y for i in DOM_List]\n",
    "    zpos=[geo[i].position.z for i in DOM_List]\n",
    "    xmin, xmax = np.min(xpos), np.max(xpos)\n",
    "    delta_x = (xmax - xmin)/input_shape[0]\n",
    "    ymin, ymax = np.min(ypos), np.max(ypos)\n",
    "    delta_y = (ymax - ymin)/input_shape[1]\n",
    "    zmin, zmax = np.min(zpos), np.max(zpos)\n",
    "    delta_z = (zmax - zmin)/input_shape[2]\n",
    "    dom_list_ret = []\n",
    "    for i, odom in enumerate(DOM_List):\n",
    "        dom_list_ret.append((odom.string, odom.om))\n",
    "        grid[(odom.string, odom.om)] = (int(math.floor((xpos[i]-xmin)/delta_x)),\n",
    "                      int(math.floor((ypos[i]-ymin)/delta_y)),\n",
    "                      int(math.floor((zpos[i]-zmin)/delta_z))\n",
    "                      )\n",
    "    return grid, dom_list_ret\n"
   ]
  },
  {
   "cell_type": "code",
   "execution_count": 5,
   "metadata": {
    "collapsed": true
   },
   "outputs": [],
   "source": [
    "folderpath = '/data/ana/PointSource/PS/IC86_2012/files/sim/2012/neutrino-generator/11069/00000-00999/'\n",
    "#folderpath = '../ba_code/data/'\n",
    "filelist = [ f_name for f_name in os.listdir(folderpath) if f_name[-6:]=='i3.bz2']"
   ]
  },
  {
   "cell_type": "code",
   "execution_count": 6,
   "metadata": {
    "collapsed": false
   },
   "outputs": [
    {
     "name": "stdout",
     "output_type": "stream",
     "text": [
      "980\n"
     ]
    }
   ],
   "source": [
    "print len(filelist)"
   ]
  },
  {
   "cell_type": "code",
   "execution_count": 6,
   "metadata": {
    "collapsed": true
   },
   "outputs": [],
   "source": [
    "\n",
    "DOM_List_Expanded = list(itertools.product(range(1, 87),range(1,65)))\n",
    "charge_arr = []\n",
    "time_arr = []\n",
    "trueval_arr = []\n",
    "geometry_file='/data/sim/sim-new/downloads/GCD/GeoCalibDetectorStatus_2012.56063_V0.i3.gz'\n",
    "#geometry_file='../ba_code/data/GeoCalibDetectorStatus_2012.56063_V0.i3.gz'\n",
    "geometry = dataio.I3File(geometry_file)\n",
    "geo = geometry.pop_frame()['I3Geometry'].omgeo\n",
    "DOM_List = geo.keys() ## Currently unused"
   ]
  },
  {
   "cell_type": "code",
   "execution_count": 7,
   "metadata": {
    "collapsed": true
   },
   "outputs": [],
   "source": [
    "# j=0\n",
    "# for counter, in_file in enumerate(filelist):\n",
    "#     if counter>10:\n",
    "#         break\n",
    "#     event_file = dataio.I3File(os.path.join(folderpath, in_file))\n",
    "#     while event_file.more():\n",
    "#             charge_arr.append(np.zeros((86,64)))\n",
    "#             time_arr.append(np.full((86,64), np.inf))\n",
    "#             physics_event = event_file.pop_physics()\n",
    "#             pulses = physics_event['InIceDSTPulses'].apply(physics_event)\n",
    "#             final_dict = dict()\n",
    "#             for omkey in pulses.keys():\n",
    "#                     temp_time = []\n",
    "#                     temp_charge = []\n",
    "#                     t_zero = np.inf\n",
    "#                     for pulse in pulses[omkey]:\n",
    "#                         temp_time.append(pulse.time)\n",
    "#                         temp_charge.append(pulse.charge)\n",
    "#                     final_dict[(omkey.string, omkey.om)] = (np.mean(temp_charge) ,np.mean(temp_time))\n",
    "#                     if np.mean(temp_time)<t_zero:\n",
    "#                         t_zero = np.mean(temp_time)\n",
    "#             for dom in DOM_List_Expanded:\n",
    "#                 if  dom in final_dict:\n",
    "#                     charge_arr[j][dom[0]-1][dom[1]-1] = final_dict[dom][0]\n",
    "#                     time_arr[j][dom[0]-1][dom[1]-1] = final_dict[dom][1]\n",
    "#                 else:\n",
    "#                     charge_arr[j][dom[0]-1][dom[1]-1] = 0\n",
    "#                     time_arr[j][dom[0]-1][dom[1]-1] = np.inf\n",
    "#             energy = physics_event['MCMostEnergeticTrack'].energy\n",
    "#             azmiuth = physics_event['MCMostEnergeticTrack'].dir.azimuth \n",
    "#             zenith = physics_event['MCMostEnergeticTrack'].dir.zenith\n",
    "#             trueval_arr.append([energy,azmiuth, zenith])\n",
    "#             j+=1"
   ]
  },
  {
   "cell_type": "code",
   "execution_count": null,
   "metadata": {
    "collapsed": false
   },
   "outputs": [
    {
     "name": "stdout",
     "output_type": "stream",
     "text": [
      "0\n",
      "1\n",
      "2"
     ]
    }
   ],
   "source": [
    "######### New Version ##########\n",
    "grid, DOM_list = make_grid_dict(input_shape,geo)\n",
    "j=0\n",
    "charge_arr = []\n",
    "time_arr = []\n",
    "trueval_arr = []\n",
    "for counter, in_file in enumerate(filelist):\n",
    "    print counter\n",
    "    event_file = dataio.I3File(os.path.join(folderpath, in_file))\n",
    "    while event_file.more():\n",
    "            ######### The +1 is not optimel....probably reconsider \n",
    "            charge_arr.append(np.zeros((input_shape[0]+1,input_shape[1]+1,input_shape[2]+1)))\n",
    "            time_arr.append(np.full((input_shape[0]+1,input_shape[1]+1,input_shape[2]+1), np.inf))\n",
    "            ###############################################\n",
    "            physics_event = event_file.pop_physics()\n",
    "            pulses = physics_event['InIceDSTPulses'].apply(physics_event)\n",
    "            final_dict = dict()\n",
    "            for omkey in pulses.keys():\n",
    "                    temp_time = []\n",
    "                    temp_charge = []\n",
    "                    t_zero = np.inf\n",
    "                    for pulse in pulses[omkey]:\n",
    "                        temp_time.append(pulse.time)\n",
    "                        temp_charge.append(pulse.charge)\n",
    "                    final_dict[(omkey.string, omkey.om)] = (np.mean(temp_charge) ,np.mean(temp_time))\n",
    "                    if np.mean(temp_time)<t_zero:\n",
    "                        t_zero = np.mean(temp_time)\n",
    "            for dom in DOM_list:\n",
    "                grid_pos = grid[dom]\n",
    "                if  dom in final_dict:\n",
    "                    charge_arr[j][grid_pos[0]][grid_pos[1]][grid_pos[2]] += final_dict[dom][0]\n",
    "                    time_arr[j][grid_pos[0]][grid_pos[1]][grid_pos[2]] += final_dict[dom][1]\n",
    "            energy = physics_event['MCMostEnergeticTrack'].energy\n",
    "            azmiuth = physics_event['MCMostEnergeticTrack'].dir.azimuth \n",
    "            zenith = physics_event['MCMostEnergeticTrack'].dir.zenith\n",
    "            trueval_arr.append([energy,azmiuth, zenith])\n",
    "            j+=1"
   ]
  },
  {
   "cell_type": "code",
   "execution_count": null,
   "metadata": {
    "collapsed": false
   },
   "outputs": [],
   "source": [
    "print np.shape(charge_arr)"
   ]
  },
  {
   "cell_type": "code",
   "execution_count": null,
   "metadata": {
    "collapsed": false
   },
   "outputs": [],
   "source": [
    "print np.shape(charge_arr[0])"
   ]
  },
  {
   "cell_type": "code",
   "execution_count": 45,
   "metadata": {
    "collapsed": false
   },
   "outputs": [],
   "source": [
    "import matplotlib as mpl\n",
    "\n",
    "np.save('./Plots/plot_3d_event.npy',\n",
    "        [np.array(list(itertools.product(np.arange(input_shape[0]+1),\n",
    "                                         np.arange(input_shape[1]+1),np.arange(input_shape[2]+1))))\n",
    "        ,charge_arr[45]])\n",
    "\n",
    "# fig = plt.figure()\n",
    "# ax = fig.add_subplot(111, projection='3d')\n",
    "# ax.scatter(range(input_shape[0]),\n",
    "#             range(input_shape[1]),\n",
    "#             range(input_shape[2]),\n",
    "#             s=np.concatenate(np.concatenate(charge_arr[0])))\n",
    "# plt.show()"
   ]
  },
  {
   "cell_type": "code",
   "execution_count": 50,
   "metadata": {
    "collapsed": true
   },
   "outputs": [],
   "source": [
    "np.save('truevals.npy', np.array(trueval_arr))\n",
    "np.save('time.npy', np.array(time_arr))\n",
    "np.save('charge.npy', np.array(charge_arr))"
   ]
  },
  {
   "cell_type": "markdown",
   "metadata": {
    "collapsed": true
   },
   "source": [
    "-----------------\n",
    "hier wird versucht in jedem \"stockwerk\" (i.e. om-number) die zeit der zu mitteln und dann gemittelte zeit ueber stockwerknummer zu plotten"
   ]
  },
  {
   "cell_type": "code",
   "execution_count": 29,
   "metadata": {
    "collapsed": true
   },
   "outputs": [],
   "source": [
    "\"\"\"\n",
    "create a two lists mapping om (i.e. height of DOM) to average time of pulses. if time is inf on every dom of this layer, dont include it into the list\n",
    "\n",
    "tuple of these lists per frame is stored in time_per_layer\n",
    "\"\"\"\n",
    "time_per_layer = np.full((len(time_arr)),None)\n",
    "for i, frame in enumerate(time_arr):\n",
    "    om_dic = {}\n",
    "    for string, stringlist in enumerate(frame):\n",
    "        string += 1\n",
    "        for om, domtime in enumerate(stringlist):\n",
    "            om += 1\n",
    "            if not np.isinf(domtime):\n",
    "                if om in om_dic:\n",
    "                    om_dic[om] = np.append(om_dic[om], domtime)\n",
    "                else:\n",
    "                    om_dic[om] = np.array([domtime])\n",
    "    time_per_layer[i] = zip(*[(om, times.mean()) for om, times in om_dic.items()]) if len(om_dic) > 0 else [(),()]"
   ]
  },
  {
   "cell_type": "code",
   "execution_count": 30,
   "metadata": {
    "collapsed": false
   },
   "outputs": [
    {
     "name": "stdout",
     "output_type": "stream",
     "text": [
      "frame: 0\n"
     ]
    },
    {
     "data": {
      "image/png": "[encoded data removed]",
      "text/plain": [
       "<matplotlib.figure.Figure at 0x112721dd0>"
      ]
     },
     "metadata": {},
     "output_type": "display_data"
    },
    {
     "name": "stdout",
     "output_type": "stream",
     "text": [
      "frame: 1\n"
     ]
    },
    {
     "data": {
      "image/png": "[encoded data removed]",
      "text/plain": [
       "<matplotlib.figure.Figure at 0x112d84a50>"
      ]
     },
     "metadata": {},
     "output_type": "display_data"
    },
    {
     "name": "stdout",
     "output_type": "stream",
     "text": [
      "frame: 2\n"
     ]
    },
    {
     "data": {
      "image/png": "[encoded data removed]",
      "text/plain": [
       "<matplotlib.figure.Figure at 0x112e57ed0>"
      ]
     },
     "metadata": {},
     "output_type": "display_data"
    },
    {
     "name": "stdout",
     "output_type": "stream",
     "text": [
      "frame: 3\n"
     ]
    },
    {
     "data": {
      "image/png": "[encoded data removed]",
      "text/plain": [
       "<matplotlib.figure.Figure at 0x10ed92b90>"
      ]
     },
     "metadata": {},
     "output_type": "display_data"
    },
    {
     "name": "stdout",
     "output_type": "stream",
     "text": [
      "frame: 4\n"
     ]
    },
    {
     "data": {
      "image/png": "[encoded data removed]",
      "text/plain": [
       "<matplotlib.figure.Figure at 0x112e63cd0>"
      ]
     },
     "metadata": {},
     "output_type": "display_data"
    },
    {
     "name": "stdout",
     "output_type": "stream",
     "text": [
      "frame: 5\n"
     ]
    },
    {
     "data": {
      "image/png": "[encoded data removed]",
      "text/plain": [
       "<matplotlib.figure.Figure at 0x113fc1f10>"
      ]
     },
     "metadata": {},
     "output_type": "display_data"
    },
    {
     "name": "stdout",
     "output_type": "stream",
     "text": [
      "frame: 6\n"
     ]
    },
    {
     "data": {
      "image/png": "[encoded data removed]",
      "text/plain": [
       "<matplotlib.figure.Figure at 0x1140dd250>"
      ]
     },
     "metadata": {},
     "output_type": "display_data"
    },
    {
     "name": "stdout",
     "output_type": "stream",
     "text": [
      "frame: 7\n"
     ]
    },
    {
     "data": {
      "image/png": "[encoded data removed]",
      "text/plain": [
       "<matplotlib.figure.Figure at 0x1141eec90>"
      ]
     },
     "metadata": {},
     "output_type": "display_data"
    },
    {
     "name": "stdout",
     "output_type": "stream",
     "text": [
      "frame: 8\n"
     ]
    },
    {
     "data": {
      "image/png": "[encoded data removed]",
      "text/plain": [
       "<matplotlib.figure.Figure at 0x112cf26d0>"
      ]
     },
     "metadata": {},
     "output_type": "display_data"
    },
    {
     "name": "stdout",
     "output_type": "stream",
     "text": [
      "frame: 9\n"
     ]
    },
    {
     "data": {
      "image/png": "[encoded data removed]",
      "text/plain": [
       "<matplotlib.figure.Figure at 0x112d79ad0>"
      ]
     },
     "metadata": {},
     "output_type": "display_data"
    },
    {
     "name": "stdout",
     "output_type": "stream",
     "text": [
      "frame: 10\n"
     ]
    },
    {
     "data": {
      "image/png": "[encoded data removed]",
      "text/plain": [
       "<matplotlib.figure.Figure at 0x1140be550>"
      ]
     },
     "metadata": {},
     "output_type": "display_data"
    }
   ],
   "source": [
    "for i, frame in enumerate(time_per_layer):\n",
    "    if i > 10:\n",
    "        break\n",
    "    print \"frame:\",i\n",
    "    plt.scatter(frame[0], frame[1])\n",
    "    plt.show()"
   ]
  },
  {
   "cell_type": "code",
   "execution_count": 33,
   "metadata": {
    "collapsed": true
   },
   "outputs": [],
   "source": [
    "\"\"\"\n",
    "berechne durchschnittliche z-koordinate jedes stockwerks\n",
    "\"\"\"\n",
    "omheight={}\n",
    "for om in range(1,65):\n",
    "    heights=np.array([])\n",
    "    for string in range(1,87):\n",
    "        omkey = icetray.OMKey(string, om, 0)\n",
    "        if omkey in geo:\n",
    "            heights = np.append(heights, geo[omkey].position[2])\n",
    "    omheight[om] = heights.mean()\n",
    "#man sieht: om>60 sind icetop doms. aber die kommen in den pulsen eh nirgends vor, also egal."
   ]
  },
  {
   "cell_type": "code",
   "execution_count": 35,
   "metadata": {
    "collapsed": false
   },
   "outputs": [
    {
     "name": "stdout",
     "output_type": "stream",
     "text": [
      "LinregressResult(slope=65.940038472171551, intercept=11819.114409174239, rvalue=0.87149296256896069, pvalue=1.3432747794152214e-19, stderr=4.8722422101177916)\n",
      "LinregressResult(slope=-4.0069914572970706, intercept=13734.495384081732, rvalue=-0.87044127588445486, pvalue=1.6758690020035807e-19, stderr=0.29755709695830473)\n",
      "[4585038.02761706, 1.8313486984444793, 0.5179179421978182]\n"
     ]
    }
   ],
   "source": [
    "from scipy import stats\n",
    "#verwende frame 6, da dieses geile korrelation hat\n",
    "frame_n=6\n",
    "print stats.linregress(time_per_layer[frame_n])\n",
    "print stats.linregress(map(lambda x: omheight[x], time_per_layer[frame_n][0]),time_per_layer[frame_n][1])\n",
    "print trueval_arr[frame_n]"
   ]
  },
  {
   "cell_type": "code",
   "execution_count": null,
   "metadata": {
    "collapsed": true
   },
   "outputs": [],
   "source": []
  }
 ],
 "metadata": {
  "kernelspec": {
   "display_name": "Python 2",
   "language": "python",
   "name": "python2"
  },
  "language_info": {
   "codemirror_mode": {
    "name": "ipython",
    "version": 2
   },
   "file_extension": ".py",
   "mimetype": "text/x-python",
   "name": "python",
   "nbconvert_exporter": "python",
   "pygments_lexer": "ipython2",
   "version": "2.7.10"
  }
 },
 "nbformat": 4,
 "nbformat_minor": 1
}
