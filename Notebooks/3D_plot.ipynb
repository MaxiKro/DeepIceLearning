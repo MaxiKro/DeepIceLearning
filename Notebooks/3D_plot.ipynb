{
 "cells": [
  {
   "cell_type": "code",
   "execution_count": 1,
   "metadata": {},
   "outputs": [],
   "source": [
    "import ipyvolume as ipv\n",
    "import numpy as np\n",
    "import h5py\n",
    "import matplotlib as mpl\n",
    "import matplotlib.pyplot as plt\n",
    "\n",
    "\n",
    "steps = 1000\n",
    "cmap = plt.cm.viridis\n",
    "cmap_r = plt.cm.viridis_r\n",
    "color_om = cmap_r(np.linspace(1, 0, steps))\n",
    "viridis_hex = list(map(lambda x: mpl.colors.rgb2hex(x), color_om))\n",
    "\n",
    "def time2color(ts):\n",
    "    tmin = np.min(ts[ts>0])\n",
    "    tmax = np.max(ts)\n",
    "    c = []\n",
    "    for t in ts:\n",
    "        if t == 0.:\n",
    "            c.append('#ffffff')\n",
    "        else:\n",
    "            index = int((t - tmin) / tmax * steps)\n",
    "            c.append(viridis_hex[index-1])\n",
    "    return c"
   ]
  },
  {
   "cell_type": "code",
   "execution_count": 2,
   "metadata": {},
   "outputs": [],
   "source": [
    "idata = h5py.File('../data/File_981.h5')"
   ]
  },
  {
   "cell_type": "code",
   "execution_count": 3,
   "metadata": {},
   "outputs": [],
   "source": [
    "key = 'IC_ATWD_0_05_pct_charge_quantile'\n",
    "ev_number = 1\n",
    "if key in idata.keys():\n",
    "    plt_data = idata[key][ev_number]\n",
    "else:\n",
    "    print(idata.keys())"
   ]
  },
  {
   "cell_type": "code",
   "execution_count": 4,
   "metadata": {},
   "outputs": [],
   "source": [
    "ishape = np.shape(plt_data)\n",
    "xi, yi , zi = np.meshgrid(1.*np.arange(ishape[0]), 1.*np.arange(ishape[1]), 1.*np.arange(ishape[2]))"
   ]
  },
  {
   "cell_type": "code",
   "execution_count": 5,
   "metadata": {},
   "outputs": [],
   "source": [
    "x_ic = np.hstack(np.hstack(xi))\n",
    "y_ic = np.hstack(np.hstack(yi))\n",
    "z_ic = np.hstack(np.hstack(zi))\n",
    "s_ic = np.concatenate(np.array([plt_data[int(x_ic[i])][int(y_ic[i])][int(z_ic[i])] for i in range(len(x_ic)-1) ]))\n",
    "c_ic = time2color(s_ic)"
   ]
  },
  {
   "cell_type": "code",
   "execution_count": 6,
   "metadata": {},
   "outputs": [],
   "source": [
    "s_ic[s_ic>0.] =1."
   ]
  },
  {
   "cell_type": "code",
   "execution_count": 7,
   "metadata": {
    "scrolled": true
   },
   "outputs": [
    {
     "data": {
      "application/vnd.jupyter.widget-view+json": {
       "model_id": "02425ebd9fd84562952e52d7d30e5984",
       "version_major": 2,
       "version_minor": 0
      },
      "text/plain": [
       "VBox(children=(Figure(camera_center=[0.0, 0.0, 0.0], height=500, matrix_projection=[0.0, 0.0, 0.0, 0.0, 0.0, 0…"
      ]
     },
     "metadata": {},
     "output_type": "display_data"
    }
   ],
   "source": [
    "ipv.scatter(x_ic, y_ic, z_ic, size=0.2, alpha = 0.2, marker=\"sphere\", color = 'grey')\n",
    "ipv.scatter(x_ic, y_ic, z_ic, size=s_ic, marker=\"sphere\", color='blue')#c_ic)\n",
    "ipv.show()"
   ]
  },
  {
   "cell_type": "code",
   "execution_count": null,
   "metadata": {
    "collapsed": true
   },
   "outputs": [],
   "source": []
  }
 ],
 "metadata": {
  "kernelspec": {
   "display_name": "Python 2",
   "language": "python",
   "name": "python2"
  },
  "language_info": {
   "codemirror_mode": {
    "name": "ipython",
    "version": 2
   },
   "file_extension": ".py",
   "mimetype": "text/x-python",
   "name": "python",
   "nbconvert_exporter": "python",
   "pygments_lexer": "ipython2",
   "version": "2.7.13"
  }
 },
 "nbformat": 4,
 "nbformat_minor": 2
}
