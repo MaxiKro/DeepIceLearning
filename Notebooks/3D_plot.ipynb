{
 "cells": [
  {
   "cell_type": "code",
   "execution_count": 211,
   "metadata": {
    "collapsed": true
   },
   "outputs": [],
   "source": [
    "import ipyvolume as ipv\n",
    "import numpy as np\n",
    "import h5py\n",
    "import matplotlib as mpl\n",
    "import matplotlib.pyplot as plt\n",
    "\n",
    "\n",
    "colormap = matplotlib.cm.viridis\n",
    "\n",
    "def time2color(ts):\n",
    "    tmin = np.min(ts[ts>0])\n",
    "    delta_t = np.max(ts) - tmin\n",
    "    c = []\n",
    "    for t in ts:\n",
    "        if t>0:\n",
    "            c.append(colormap((t-tmin)/delta_t))\n",
    "    return np.array(c)\n",
    "\n",
    "def normalize(arr, on_max=3.):\n",
    "    amax = np.max(arr[arr>0])\n",
    "    return [0.6+on_max*x/amax for x in arr if x>0.]"
   ]
  },
  {
   "cell_type": "code",
   "execution_count": 212,
   "metadata": {
    "collapsed": true
   },
   "outputs": [],
   "source": [
    "idata = h5py.File('../data/File_981.h5')"
   ]
  },
  {
   "cell_type": "code",
   "execution_count": 351,
   "metadata": {},
   "outputs": [],
   "source": [
    "key = 'IC_ATWD_0_5_pct_charge_quantile'\n",
    "ckey = 'IC_charge'\n",
    "ev_number = 5\n",
    "if key in idata.keys():\n",
    "    plt_data = idata[key][ev_number]\n",
    "    charge = idata[ckey][ev_number] \n",
    "else:\n",
    "    print(idata.keys())"
   ]
  },
  {
   "cell_type": "code",
   "execution_count": 352,
   "metadata": {
    "collapsed": true
   },
   "outputs": [],
   "source": [
    "ishape = np.shape(plt_data)\n",
    "xi, yi , zi = np.meshgrid(1.*np.arange(ishape[0]), 1.*np.arange(ishape[1]), 1.*np.arange(ishape[2]))"
   ]
  },
  {
   "cell_type": "code",
   "execution_count": 353,
   "metadata": {},
   "outputs": [],
   "source": [
    "x_ic = np.hstack(np.hstack(xi))\n",
    "y_ic = np.hstack(np.hstack(yi))\n",
    "z_ic = np.hstack(np.hstack(zi))\n",
    "c_arr = np.concatenate([charge[int(x_ic[i])][int(y_ic[i])][int(z_ic[i])] for i in range(len(x_ic))])\n",
    "mask = c_arr > 0\n",
    "s_ic = normalize(c_arr)\n",
    "c_ic = time2color([plt_data[int(x_ic[i])][int(y_ic[i])][int(z_ic[i])][0] for i in range(len(x_ic))])"
   ]
  },
  {
   "cell_type": "code",
   "execution_count": 354,
   "metadata": {},
   "outputs": [
    {
     "name": "stdout",
     "output_type": "stream",
     "text": [
      "Event Type 5.0\n"
     ]
    }
   ],
   "source": [
    "print('Event Type {}'.format(idata['reco_vals'][ev_number]['ClassificationLabel']))"
   ]
  },
  {
   "cell_type": "code",
   "execution_count": 355,
   "metadata": {
    "scrolled": true
   },
   "outputs": [
    {
     "data": {
      "application/vnd.jupyter.widget-view+json": {
       "model_id": "98818fa5997c422188377620eea50775",
       "version_major": 2,
       "version_minor": 0
      },
      "text/plain": [
       "VBox(children=(Figure(camera_center=[0.0, 0.0, 0.0], height=500, matrix_projection=[0.0, 0.0, 0.0, 0.0, 0.0, 0…"
      ]
     },
     "metadata": {},
     "output_type": "display_data"
    }
   ],
   "source": [
    "ipv.clear()\n",
    "ipv.scatter(x_ic, y_ic, z_ic, size=0.2, alpha = 0.2, marker=\"sphere\", color = 'grey')\n",
    "ipv.scatter(x_ic[mask], y_ic[mask], z_ic[mask], size=s_ic, marker=\"sphere\", color= c_ic)\n",
    "ipv.show()"
   ]
  },
  {
   "cell_type": "code",
   "execution_count": null,
   "metadata": {
    "collapsed": true
   },
   "outputs": [],
   "source": []
  }
 ],
 "metadata": {
  "kernelspec": {
   "display_name": "Python 2",
   "language": "python",
   "name": "python2"
  },
  "language_info": {
   "codemirror_mode": {
    "name": "ipython",
    "version": 2
   },
   "file_extension": ".py",
   "mimetype": "text/x-python",
   "name": "python",
   "nbconvert_exporter": "python",
   "pygments_lexer": "ipython2",
   "version": "2.7.13"
  }
 },
 "nbformat": 4,
 "nbformat_minor": 2
}
