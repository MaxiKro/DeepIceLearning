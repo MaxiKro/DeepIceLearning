{
 "cells": [
  {
   "cell_type": "code",
   "execution_count": 21,
   "metadata": {},
   "outputs": [
    {
     "name": "stderr",
     "output_type": "stream",
     "text": [
      "fancy_plot_mk.py:7: UserWarning: \n",
      "This call to matplotlib.use() has no effect because the backend has already\n",
      "been chosen; matplotlib.use() must be called *before* pylab, matplotlib.pyplot,\n",
      "or matplotlib.backends is imported for the first time.\n",
      "\n",
      "The backend was *originally* set to 'module://ipykernel.pylab.backend_inline' by the following code:\n",
      "  File \"/usr/lib64/python2.7/runpy.py\", line 162, in _run_module_as_main\n",
      "    \"__main__\", fname, loader, pkg_name)\n",
      "  File \"/usr/lib64/python2.7/runpy.py\", line 72, in _run_code\n",
      "    exec code in run_globals\n",
      "  File \"/home/ga38tul/.local/lib/python2.7/site-packages/ipykernel_launcher.py\", line 16, in <module>\n",
      "    app.launch_new_instance()\n",
      "  File \"/home/ga38tul/.local/lib/python2.7/site-packages/traitlets/config/application.py\", line 658, in launch_instance\n",
      "    app.start()\n",
      "  File \"/home/ga38tul/.local/lib/python2.7/site-packages/ipykernel/kernelapp.py\", line 478, in start\n",
      "    self.io_loop.start()\n",
      "  File \"/usr/lib64/python2.7/site-packages/zmq/eventloop/ioloop.py\", line 151, in start\n",
      "    super(ZMQIOLoop, self).start()\n",
      "  File \"/home/ga38tul/.local/lib/python2.7/site-packages/tornado/ioloop.py\", line 888, in start\n",
      "    handler_func(fd_obj, events)\n",
      "  File \"/home/ga38tul/.local/lib/python2.7/site-packages/tornado/stack_context.py\", line 277, in null_wrapper\n",
      "    return fn(*args, **kwargs)\n",
      "  File \"/usr/lib64/python2.7/site-packages/zmq/eventloop/zmqstream.py\", line 433, in _handle_events\n",
      "    self._handle_recv()\n",
      "  File \"/usr/lib64/python2.7/site-packages/zmq/eventloop/zmqstream.py\", line 465, in _handle_recv\n",
      "    self._run_callback(callback, msg)\n",
      "  File \"/usr/lib64/python2.7/site-packages/zmq/eventloop/zmqstream.py\", line 407, in _run_callback\n",
      "    callback(*args, **kwargs)\n",
      "  File \"/home/ga38tul/.local/lib/python2.7/site-packages/tornado/stack_context.py\", line 277, in null_wrapper\n",
      "    return fn(*args, **kwargs)\n",
      "  File \"/home/ga38tul/.local/lib/python2.7/site-packages/ipykernel/kernelbase.py\", line 283, in dispatcher\n",
      "    return self.dispatch_shell(stream, msg)\n",
      "  File \"/home/ga38tul/.local/lib/python2.7/site-packages/ipykernel/kernelbase.py\", line 233, in dispatch_shell\n",
      "    handler(stream, idents, msg)\n",
      "  File \"/home/ga38tul/.local/lib/python2.7/site-packages/ipykernel/kernelbase.py\", line 399, in execute_request\n",
      "    user_expressions, allow_stdin)\n",
      "  File \"/home/ga38tul/.local/lib/python2.7/site-packages/ipykernel/ipkernel.py\", line 208, in do_execute\n",
      "    res = shell.run_cell(code, store_history=store_history, silent=silent)\n",
      "  File \"/home/ga38tul/.local/lib/python2.7/site-packages/ipykernel/zmqshell.py\", line 537, in run_cell\n",
      "    return super(ZMQInteractiveShell, self).run_cell(*args, **kwargs)\n",
      "  File \"/home/ga38tul/.local/lib/python2.7/site-packages/IPython/core/interactiveshell.py\", line 2718, in run_cell\n",
      "    interactivity=interactivity, compiler=compiler, result=result)\n",
      "  File \"/home/ga38tul/.local/lib/python2.7/site-packages/IPython/core/interactiveshell.py\", line 2822, in run_ast_nodes\n",
      "    if self.run_code(code, result):\n",
      "  File \"/home/ga38tul/.local/lib/python2.7/site-packages/IPython/core/interactiveshell.py\", line 2882, in run_code\n",
      "    exec(code_obj, self.user_global_ns, self.user_ns)\n",
      "  File \"<ipython-input-21-8111891a432e>\", line 4, in <module>\n",
      "    get_ipython().magic(u'matplotlib inline')\n",
      "  File \"/home/ga38tul/.local/lib/python2.7/site-packages/IPython/core/interactiveshell.py\", line 2160, in magic\n",
      "    return self.run_line_magic(magic_name, magic_arg_s)\n",
      "  File \"/home/ga38tul/.local/lib/python2.7/site-packages/IPython/core/interactiveshell.py\", line 2081, in run_line_magic\n",
      "    result = fn(*args,**kwargs)\n",
      "  File \"<string>\", line 2, in matplotlib\n",
      "  File \"/home/ga38tul/.local/lib/python2.7/site-packages/IPython/core/magic.py\", line 188, in <lambda>\n",
      "    call = lambda f, *a, **k: f(*a, **k)\n",
      "  File \"/home/ga38tul/.local/lib/python2.7/site-packages/IPython/core/magics/pylab.py\", line 100, in matplotlib\n",
      "    gui, backend = self.shell.enable_matplotlib(args.gui)\n",
      "  File \"/home/ga38tul/.local/lib/python2.7/site-packages/IPython/core/interactiveshell.py\", line 2950, in enable_matplotlib\n",
      "    pt.activate_matplotlib(backend)\n",
      "  File \"/home/ga38tul/.local/lib/python2.7/site-packages/IPython/core/pylabtools.py\", line 309, in activate_matplotlib\n",
      "    matplotlib.pyplot.switch_backend(backend)\n",
      "  File \"/home/ga38tul/.local/lib/python2.7/site-packages/matplotlib/pyplot.py\", line 232, in switch_backend\n",
      "    matplotlib.use(newbackend, warn=False, force=True)\n",
      "  File \"/home/ga38tul/.local/lib/python2.7/site-packages/matplotlib/__init__.py\", line 1305, in use\n",
      "    reload(sys.modules['matplotlib.backends'])\n",
      "  File \"/home/ga38tul/.local/lib/python2.7/site-packages/matplotlib/backends/__init__.py\", line 14, in <module>\n",
      "    line for line in traceback.format_stack()\n",
      "\n",
      "\n",
      "  mpl.use('pdf')\n",
      "/home/ga38tul/.local/lib/python2.7/site-packages/matplotlib/__init__.py:800: MatplotlibDeprecationWarning: text.fontsize is deprecated and replaced with font.size; please use the latter.\n",
      "  mplDeprecation)\n",
      "/home/ga38tul/.local/lib/python2.7/site-packages/matplotlib/__init__.py:800: MatplotlibDeprecationWarning: axes.color_cycle is deprecated and replaced with axes.prop_cycle; please use the latter.\n",
      "  mplDeprecation)\n"
     ]
    }
   ],
   "source": [
    "import numpy as np\n",
    "import os\n",
    "\n",
    "%matplotlib inline\n",
    "import matplotlib.pyplot as plt\n",
    "\n",
    "import h5py\n",
    "import tables\n",
    "\n",
    "import sys\n",
    "sys.path.append('/scratch9/mkron/software/DeepIceLearning/Plots')\n",
    "#import plot_functions_mk as pfmk\n",
    "from fancy_plot_mk import *"
   ]
  },
  {
   "cell_type": "code",
   "execution_count": 76,
   "metadata": {},
   "outputs": [],
   "source": [
    "DATA_DIR = \"/scratch9/mkron/data/training_data/third_dataset/small/\"\n",
    "File = \"File_105.h5\"\n",
    "\n",
    "file = h5py.File(os.path.join(DATA_DIR, File), \"r\")"
   ]
  },
  {
   "cell_type": "code",
   "execution_count": 77,
   "metadata": {},
   "outputs": [
    {
     "name": "stdout",
     "output_type": "stream",
     "text": [
      "[u'av_time_charges', u'charge', u'first_charge', u'num_pulses', u'reco_vals', u'time', u'time_05pct', u'time_100pct', u'time_10pct', u'time_15pct', u'time_20pct', u'time_25pct', u'time_30pct', u'time_35pct', u'time_40pct', u'time_45pct', u'time_50pct', u'time_55pct', u'time_60pct', u'time_65pct', u'time_70pct', u'time_75pct', u'time_80pct', u'time_85pct', u'time_90pct', u'time_95pct', u'time_kurtosis', u'time_moment_2', u'time_quartercharge', u'time_spread']\n"
     ]
    }
   ],
   "source": [
    "print file.keys()"
   ]
  },
  {
   "cell_type": "markdown",
   "metadata": {},
   "source": [
    "##### to find the DOMs"
   ]
  },
  {
   "cell_type": "code",
   "execution_count": 78,
   "metadata": {},
   "outputs": [
    {
     "name": "stdout",
     "output_type": "stream",
     "text": [
      "37\n",
      "221635.581048\n",
      "126\n",
      "212561.099847\n",
      "138\n",
      "244581.805206\n",
      "159\n",
      "219243.300138\n",
      "162\n",
      "216255.184952\n",
      "171\n",
      "225105.503019\n"
     ]
    }
   ],
   "source": [
    "event = 77 #93, 101, 126, 140, 160\n",
    "x = 6\n",
    "y = 8\n",
    "z = 12\n",
    "\n",
    "for ii in xrange(200):\n",
    "    event = ii\n",
    "    waveform_DOM = []\n",
    "    time = \"05\"\n",
    "    for i in xrange(20):\n",
    "        #print time\n",
    "        key = \"time_\" + str(time) + \"pct\"\n",
    "        #print key\n",
    "        waveform_DOM.append(file[key][event][x][y][z][0])\n",
    "        time = (i+2)*5\n",
    "    sum = np.sum(waveform_DOM)\n",
    "    #print sum\n",
    "    if sum!= 0:\n",
    "        print ii\n",
    "        print sum"
   ]
  },
  {
   "cell_type": "markdown",
   "metadata": {},
   "source": [
    "##### Plotting the Waveform"
   ]
  },
  {
   "cell_type": "code",
   "execution_count": 79,
   "metadata": {},
   "outputs": [],
   "source": [
    "event = 77 #93, 101, 126, 140, 160\n",
    "x = 6\n",
    "y = 10\n",
    "z = 12\n",
    "\n",
    "\n",
    "waveform_DOM = []\n",
    "time = \"05\"\n",
    "for i in xrange(20):\n",
    "    #print time\n",
    "    key = \"time_\" + str(time) + \"pct\"\n",
    "    #print key\n",
    "    waveform_DOM.append(file[key][event][x][y][z][0])\n",
    "    time = (i+2)*5\n",
    "waveform_DOM = np.array(waveform_DOM)\n",
    "waveform_DOM = waveform_DOM-np.min(waveform_DOM)"
   ]
  },
  {
   "cell_type": "code",
   "execution_count": 80,
   "metadata": {},
   "outputs": [],
   "source": [
    "waveform_DOM_2 = waveform_DOM_1\n",
    "waveform_DOM_1 = waveform_DOM"
   ]
  },
  {
   "cell_type": "code",
   "execution_count": 81,
   "metadata": {},
   "outputs": [
    {
     "data": {
      "text/plain": [
       "Text(0,0.5,u'percentage of accumulated charge [pct]')"
      ]
     },
     "execution_count": 81,
     "metadata": {},
     "output_type": "execute_result"
    },
    {
     "data": {
      "image/png": "[encoded data removed]",
      "text/plain": [
       "<matplotlib.figure.Figure at 0x7f280b0e1f90>"
      ]
     },
     "metadata": {},
     "output_type": "display_data"
    }
   ],
   "source": [
    "fig, ax1 = newfig(1.0)\n",
    "\n",
    "x = np.linspace(5,100,20)\n",
    "ax1.plot(waveform_DOM_2, x, \"x\" , label=\"DOM 6,10,12\")\n",
    "ax1.plot(waveform_DOM_1, x, \"x\" , label=\"DOM 6,9,12\")\n",
    "ax1.plot(waveform_DOM, x, \"x\" , label=\"DOM 6,8,12\")\n",
    "ax1.legend(loc=\"best\", ncol=2, borderaxespad=0.) #loc ='best'\n",
    "ax1.set_title(r\"Accumulation of charge over time for some single DOMs\")\n",
    "ax1.set_xlabel(r'time [ms]')\n",
    "ax1.set_ylabel(r'percentage of accumulated charge [pct]')\n"
   ]
  },
  {
   "cell_type": "code",
   "execution_count": 83,
   "metadata": {},
   "outputs": [
    {
     "name": "stdout",
     "output_type": "stream",
     "text": [
      "10370.5061651\n",
      "10615.8698295\n",
      "10300.0114435\n",
      "10181.5661692\n",
      "10144.4067165\n",
      "10030.2578917\n",
      "9999.27594165\n",
      "9939.03465994\n",
      "9915.65348112\n",
      "9957.2952252\n",
      "10002.7282227\n",
      "10053.2492385\n",
      "10103.4327299\n",
      "10223.4580096\n",
      "10608.3252002\n",
      "10568.4147624\n",
      "10913.3295928\n",
      "10756.8859526\n",
      "11481.7086737\n",
      "10947.1076902\n",
      "11394.9467132\n",
      "11067.1259726\n",
      "10943.3194349\n",
      "11079.6779315\n",
      "11257.5809347\n",
      "10587.0704601\n",
      "11134.305728\n",
      "10464.7025721\n",
      "10426.5310592\n",
      "10478.2516821\n",
      "10560.0359411\n",
      "10498.9743153\n",
      "10568.071561\n",
      "10575.9802415\n",
      "11621.4484918\n",
      "12815.4017725\n",
      "11414.9688269\n",
      "11612.4200146\n",
      "11557.2006493\n",
      "11181.085062\n",
      "12004.3201508\n",
      "11910.2552031\n",
      "12590.4428132\n",
      "12390.073583\n",
      "13136.2700313\n",
      "11448.4853527\n",
      "11072.8631175\n",
      "11032.3728079\n",
      "10739.6064525\n",
      "10479.6375364\n",
      "10687.5942856\n",
      "10529.1401414\n",
      "10510.143229\n",
      "10527.4911301\n",
      "11149.5833993\n",
      "10977.448686\n",
      "11404.4975485\n",
      "10997.2186619\n",
      "11333.9562302\n",
      "10991.371885\n",
      "12067.6170374\n",
      "10775.6566885\n",
      "10832.9138096\n",
      "10611.3900562\n",
      "10758.3976686\n",
      "10925.651153\n",
      "11075.9566722\n",
      "10948.9023613\n",
      "11267.9883515\n",
      "12007.3673853\n",
      "12970.4284361\n",
      "11553.2850748\n",
      "11373.3009209\n",
      "12115.1290471\n",
      "12541.8184856\n",
      "12242.6061055\n",
      "12091.0172023\n",
      "14315.7166302\n",
      "12195.7138059\n",
      "11284.4844582\n",
      "13291.8966684\n",
      "12756.769561\n",
      "12479.3870718\n",
      "12108.3027145\n",
      "12334.912359\n"
     ]
    }
   ],
   "source": [
    "time_05 = file[\"time_05pct\"][207]\n",
    "time_05 = time_05.flatten()\n",
    "#print len(time_05)\n",
    "for i in time_05:\n",
    "    if i != 0:\n",
    "        print i"
   ]
  },
  {
   "cell_type": "code",
   "execution_count": null,
   "metadata": {},
   "outputs": [],
   "source": []
  }
 ],
 "metadata": {
  "kernelspec": {
   "display_name": "Python 2",
   "language": "python",
   "name": "python2"
  },
  "language_info": {
   "codemirror_mode": {
    "name": "ipython",
    "version": 2
   },
   "file_extension": ".py",
   "mimetype": "text/x-python",
   "name": "python",
   "nbconvert_exporter": "python",
   "pygments_lexer": "ipython2",
   "version": "2.7.5"
  }
 },
 "nbformat": 4,
 "nbformat_minor": 2
}
