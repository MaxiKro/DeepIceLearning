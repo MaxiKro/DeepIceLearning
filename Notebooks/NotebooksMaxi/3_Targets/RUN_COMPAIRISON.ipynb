{
 "cells": [
  {
   "cell_type": "code",
   "execution_count": 2,
   "metadata": {},
   "outputs": [],
   "source": [
    "import numpy as np\n",
    "import numpy.ma as ma\n",
    "import os\n",
    "import pickle\n",
    "import matplotlib.pyplot as plt\n",
    "import matplotlib.patches as mpatches\n",
    "import itertools\n",
    "from matplotlib import gridspec\n",
    "\n",
    "import sys\n",
    "#sys.path.append('/scratch9/mkron/software/DeepIceLearning/Plots')\n",
    "#import plot_functions_mk as pfmk"
   ]
  },
  {
   "cell_type": "code",
   "execution_count": 3,
   "metadata": {},
   "outputs": [],
   "source": [
    "RUNS = [\"22\", \"23\"]"
   ]
  },
  {
   "cell_type": "code",
   "execution_count": 4,
   "metadata": {},
   "outputs": [],
   "source": [
    "def plot_confusion_matrix(cm, classes,title=\"\", cmap=plt.cm.Blues):\n",
    "    \"\"\"\n",
    "    This function plots the confusion matrix.\n",
    "    \"\"\"\n",
    "\n",
    "    plt.imshow(cm, interpolation='nearest', cmap=cmap)\n",
    "    plt.title(title, fontsize=20)\n",
    "    plt.colorbar()\n",
    "    tick_marks = np.arange(len(classes))\n",
    "    plt.xticks(tick_marks, classes, rotation=45, fontsize=18)\n",
    "    plt.yticks(tick_marks, classes, fontsize=18)\n",
    "\n",
    "    thresh = cm.max() / 2.\n",
    "    for i, j in itertools.product(range(len(classes)), range(len(classes))):\n",
    "        plt.text(j, i, '{:.2f}'.format(cm[i, j]),\n",
    "                 horizontalalignment=\"center\",\n",
    "                 color=\"white\" if cm[i, j] > thresh else \"black\", fontsize=14)\n",
    "\n",
    "    plt.ylabel('Predicted label', fontsize=18)\n",
    "    plt.xlabel('True label', fontsize=18)\n",
    "    #plt.tight_layout()\n",
    "    #plt.show()"
   ]
  },
  {
   "cell_type": "code",
   "execution_count": 5,
   "metadata": {},
   "outputs": [
    {
     "name": "stdout",
     "output_type": "stream",
     "text": [
      "RUN 22\n",
      "ACC for the single Targets of the overall best epoch\n",
      "Overall Performence: 74.17%\n",
      "Acc on Validation Set of Target 1 Event Type : 78.5%\n",
      "Acc on Validation Set of Target 2 Starting   : 78.5%\n",
      "Acc on Validation Set of Target 3 UpDown     : 65.5%\n",
      "\n",
      "\n",
      "RUN 23\n",
      "ACC for the single Targets of the overall best epoch\n",
      "Overall Performence: 86.45%\n",
      "Acc on Validation Set of Target 1 Event Type : 88.25%\n",
      "Acc on Validation Set of Target 2 Starting   : 89.46%\n",
      "Acc on Validation Set of Target 3 UpDown     : 81.64%\n",
      "\n",
      "\n"
     ]
    }
   ],
   "source": [
    "for i in xrange(len(RUNS)):\n",
    "    DATA_DIR = \"/scratch9/mkron/data/NN_out/run{}/\".format(RUNS[i])\n",
    "    print \"RUN {}\".format(RUNS[i])\n",
    "    #predictions_mctrue = pickle.load(file(os.path.join(DATA_DIR, 'prediction.pickle')))\n",
    "    epochs_acc_loss = np.delete(np.genfromtxt(os.path.join(DATA_DIR, \"loss_logger.csv\"), delimiter=','), 0, axis=0).T\n",
    "    acc_val_1 = epochs_acc_loss[8]\n",
    "    acc_val_2 = epochs_acc_loss[10]\n",
    "    acc_val_3 = epochs_acc_loss[12]\n",
    "    sum_acc_val = acc_val_1 + acc_val_2 + acc_val_3\n",
    "    print \"ACC for the single Targets of the overall best epoch\"\n",
    "    print \"Overall Performence: {}%\".format(round(np.max(sum_acc_val)/3*100, 2))\n",
    "    print \"Acc on Validation Set of Target 1 Event Type : {}%\".format(round(np.max(acc_val_1[np.argmax(sum_acc_val)])*100 ,2))\n",
    "    print \"Acc on Validation Set of Target 2 Starting   : {}%\".format(round(np.max(acc_val_2[np.argmax(sum_acc_val)])*100 ,2))\n",
    "    print \"Acc on Validation Set of Target 3 UpDown     : {}%\".format(round(np.max(acc_val_3[np.argmax(sum_acc_val)])*100 ,2))\n",
    "    print \"\\n\""
   ]
  },
  {
   "cell_type": "code",
   "execution_count": 6,
   "metadata": {
    "scrolled": false
   },
   "outputs": [
    {
     "ename": "IOError",
     "evalue": "[Errno 2] No such file or directory: '/scratch9/mkron/data/NN_out/run22/prediction.pickle'",
     "output_type": "error",
     "traceback": [
      "\u001b[0;31m\u001b[0m",
      "\u001b[0;31mIOError\u001b[0mTraceback (most recent call last)",
      "\u001b[0;32m<ipython-input-6-e33c76da6b16>\u001b[0m in \u001b[0;36m<module>\u001b[0;34m()\u001b[0m\n\u001b[1;32m      2\u001b[0m \u001b[0;32mfor\u001b[0m \u001b[0mi\u001b[0m \u001b[0;32min\u001b[0m \u001b[0mxrange\u001b[0m\u001b[0;34m(\u001b[0m\u001b[0mlen\u001b[0m\u001b[0;34m(\u001b[0m\u001b[0mRUNS\u001b[0m\u001b[0;34m)\u001b[0m\u001b[0;34m)\u001b[0m\u001b[0;34m:\u001b[0m\u001b[0;34m\u001b[0m\u001b[0m\n\u001b[1;32m      3\u001b[0m     \u001b[0mDATA_DIR\u001b[0m \u001b[0;34m=\u001b[0m \u001b[0;34m\"/scratch9/mkron/data/NN_out/run{}/\"\u001b[0m\u001b[0;34m.\u001b[0m\u001b[0mformat\u001b[0m\u001b[0;34m(\u001b[0m\u001b[0mRUNS\u001b[0m\u001b[0;34m[\u001b[0m\u001b[0mi\u001b[0m\u001b[0;34m]\u001b[0m\u001b[0;34m)\u001b[0m\u001b[0;34m\u001b[0m\u001b[0m\n\u001b[0;32m----> 4\u001b[0;31m     \u001b[0mpredictions_mctrue\u001b[0m \u001b[0;34m=\u001b[0m \u001b[0mpickle\u001b[0m\u001b[0;34m.\u001b[0m\u001b[0mload\u001b[0m\u001b[0;34m(\u001b[0m\u001b[0mfile\u001b[0m\u001b[0;34m(\u001b[0m\u001b[0mos\u001b[0m\u001b[0;34m.\u001b[0m\u001b[0mpath\u001b[0m\u001b[0;34m.\u001b[0m\u001b[0mjoin\u001b[0m\u001b[0;34m(\u001b[0m\u001b[0mDATA_DIR\u001b[0m\u001b[0;34m,\u001b[0m \u001b[0;34m'prediction.pickle'\u001b[0m\u001b[0;34m)\u001b[0m\u001b[0;34m)\u001b[0m\u001b[0;34m)\u001b[0m\u001b[0;34m\u001b[0m\u001b[0m\n\u001b[0m\u001b[1;32m      5\u001b[0m \u001b[0;34m\u001b[0m\u001b[0m\n\u001b[1;32m      6\u001b[0m     \u001b[0mpred_label_1\u001b[0m \u001b[0;34m=\u001b[0m \u001b[0mpredictions_mctrue\u001b[0m\u001b[0;34m[\u001b[0m\u001b[0;34m\"prediction\"\u001b[0m\u001b[0;34m]\u001b[0m\u001b[0;34m[\u001b[0m\u001b[0;36m0\u001b[0m\u001b[0;34m]\u001b[0m \u001b[0;31m#list with probability for each class\u001b[0m\u001b[0;34m\u001b[0m\u001b[0m\n",
      "\u001b[0;31mIOError\u001b[0m: [Errno 2] No such file or directory: '/scratch9/mkron/data/NN_out/run22/prediction.pickle'"
     ]
    },
    {
     "data": {
      "text/plain": [
       "<matplotlib.figure.Figure at 0x7fa2cb7ed2d0>"
      ]
     },
     "metadata": {},
     "output_type": "display_data"
    }
   ],
   "source": [
    "fig = plt.figure(figsize=(18, len(RUNS)*9))\n",
    "for i in xrange(len(RUNS)):\n",
    "    DATA_DIR = \"/scratch9/mkron/data/NN_out/run{}/\".format(RUNS[i])\n",
    "    predictions_mctrue = pickle.load(file(os.path.join(DATA_DIR, 'prediction.pickle')))\n",
    "    \n",
    "    pred_label_1 = predictions_mctrue[\"prediction\"][0] #list with probability for each class\n",
    "    true_label_1 = predictions_mctrue[\"mc_truth\"][\"ClassificationLabel_truth\"][:len(pred_label_1)]-1\n",
    "\n",
    "    pred_for_class1 = pred_label_1[true_label_1 == 0]\n",
    "    pred_for_class2 = pred_label_1[true_label_1 == 1]\n",
    "    pred_for_class3 = pred_label_1[true_label_1 == 2]\n",
    "\n",
    "    classes = (\"Cascade\", \"Track\", \"Double Bang\")\n",
    "\n",
    "    absolute, xe,ye = np.histogram2d(np.argmax(pred_label_1, axis=1), true_label_1, bins=(len(classes),len(classes)))\n",
    "    # that means that the prediction has to correspond to a event type \n",
    "    res_true = absolute/np.sum(absolute,axis=0)\n",
    "    # normalization if the absolute values, so that the sum over PREDICTION is 1\n",
    "    # that means that a event hast to be predicted as one type \n",
    "    res_pred = absolute/np.sum(absolute,axis=1).reshape(-1,1)\n",
    "    \n",
    "    ax1 = plt.subplot2grid((len(RUNS), 2), (i, 0))\n",
    "    plot_confusion_matrix(res_true, classes=classes, title='Confusion matrix normalized on MCTruth')\n",
    "\n",
    "    ax2 = plt.subplot2grid((len(RUNS), 2), (i, 1))\n",
    "    plot_confusion_matrix(res_pred, classes=classes, title='Confusion matrix normalized on PREDICTION')"
   ]
  },
  {
   "cell_type": "code",
   "execution_count": null,
   "metadata": {},
   "outputs": [],
   "source": []
  },
  {
   "cell_type": "code",
   "execution_count": null,
   "metadata": {},
   "outputs": [],
   "source": []
  }
 ],
 "metadata": {
  "kernelspec": {
   "display_name": "Python 2",
   "language": "python",
   "name": "python2"
  },
  "language_info": {
   "codemirror_mode": {
    "name": "ipython",
    "version": 2
   },
   "file_extension": ".py",
   "mimetype": "text/x-python",
   "name": "python",
   "nbconvert_exporter": "python",
   "pygments_lexer": "ipython2",
   "version": "2.7.5"
  }
 },
 "nbformat": 4,
 "nbformat_minor": 2
}
