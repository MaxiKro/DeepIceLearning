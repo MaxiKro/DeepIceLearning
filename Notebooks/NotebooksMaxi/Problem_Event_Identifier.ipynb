{
 "cells": [
  {
   "cell_type": "code",
   "execution_count": 1,
   "metadata": {},
   "outputs": [],
   "source": [
    "import numpy as np\n",
    "import numpy.ma as ma\n",
    "import os\n",
    "import pickle\n",
    "import matplotlib.pyplot as plt\n",
    "import matplotlib.patches as mpatches\n",
    "import itertools\n",
    "from matplotlib import gridspec\n",
    "\n",
    "import sys"
   ]
  },
  {
   "cell_type": "code",
   "execution_count": 2,
   "metadata": {},
   "outputs": [],
   "source": [
    "DATA_DIR = \"/scratch9/mkron/data/NN_out/run23/\"\n",
    "predictions_mctrue = pickle.load(file(os.path.join(DATA_DIR, 'best_val_loss_pred.pickle')))\n",
    "epochs_acc_loss = np.delete(np.genfromtxt(os.path.join(DATA_DIR, \"loss_logger.csv\"), delimiter=','), 0, axis=0).T"
   ]
  },
  {
   "cell_type": "code",
   "execution_count": 3,
   "metadata": {},
   "outputs": [],
   "source": [
    "def retag_classify_startTrack(ClassLabel):\n",
    "    ClassLabelRetag = ClassLabel\n",
    "    ClassLabelRetag[ClassLabel == 0] =0\n",
    "    ClassLabelRetag[ClassLabel == 1] =0\n",
    "    ClassLabelRetag[ClassLabel == 2] =1\n",
    "    ClassLabelRetag[ClassLabel == 3] =3\n",
    "    ClassLabelRetag[ClassLabel == 4] =1\n",
    "    ClassLabelRetag[ClassLabel == 5] =2\n",
    "    ClassLabelRetag[ClassLabel == 6] =2\n",
    "    ClassLabelRetag[ClassLabel == 7] =0\n",
    "    ClassLabelRetag[ClassLabel == 8] =1\n",
    "    ClassLabelRetag[ClassLabel == 9] =0\n",
    "    return ClassLabelRetag"
   ]
  },
  {
   "cell_type": "code",
   "execution_count": 4,
   "metadata": {},
   "outputs": [],
   "source": [
    "### ACHTUNG nur einmalig ausführen\n",
    "\n",
    "pred_label_1 = predictions_mctrue[\"prediction\"][0] #list with probability for each class\n",
    "true_label_1_raw = predictions_mctrue[\"mc_truth\"][\"ClassificationLabel_truth\"][:len(pred_label_1)]\n",
    "# ReTag ClassLabel to Labels which can be predicted\n",
    "true_label_1 = retag_classify_startTrack(true_label_1_raw)\n",
    "\n",
    "#The actuall Predictions for class 1\n",
    "all_pred = np.argmax(pred_label_1, axis=1) # all predictions\n",
    "\n",
    "#Energy\n",
    "energy=[]\n",
    "for i in xrange(0, len(pred_label_1)):\n",
    "    energy.append(predictions_mctrue[\"reco_vals\"][i][0])\n",
    "energy = np.array(energy)\n",
    "\n",
    "# Number of hit DOMs\n",
    "hitDOMs = predictions_mctrue[\"HitDOMs\"][:len(pred_label_1)]\n",
    "hitDOMs = np.array(hitDOMs)\n",
    "\n",
    "#RUN and EVENT-ID and primary particle\n",
    "RunID = []\n",
    "EventID = []\n",
    "Primary_pdg = []\n",
    "for i in xrange(len(pred_label_1)):\n",
    "    RunID.append(predictions_mctrue[\"reco_vals\"][i][5])\n",
    "    EventID.append(predictions_mctrue[\"reco_vals\"][i][6])\n",
    "    Primary_pdg.append(predictions_mctrue[\"reco_vals\"][i][2])\n",
    "RunID = np.array(RunID)\n",
    "EventID = np.array(EventID)\n",
    "Primary_pdg = np.array(Primary_pdg)"
   ]
  },
  {
   "cell_type": "code",
   "execution_count": 5,
   "metadata": {},
   "outputs": [
    {
     "name": "stdout",
     "output_type": "stream",
     "text": [
      "[ 0.  0.  0.]\n",
      "[0 0 0]\n",
      "[ 19733.  19255.  22850.]\n",
      "[ 7984.  6637.  6382.]\n"
     ]
    }
   ],
   "source": [
    "print true_label_1[hitDOMs == np.min(hitDOMs)]\n",
    "print all_pred[hitDOMs == np.min(hitDOMs)]\n",
    "print RunID[hitDOMs == np.min(hitDOMs)]\n",
    "print EventID[hitDOMs == np.min(hitDOMs)]"
   ]
  },
  {
   "cell_type": "code",
   "execution_count": 6,
   "metadata": {},
   "outputs": [
    {
     "name": "stdout",
     "output_type": "stream",
     "text": [
      "[ 1.]\n",
      "[1]\n",
      "[ 22748.]\n",
      "[ 7532.]\n"
     ]
    }
   ],
   "source": [
    "print true_label_1[hitDOMs == np.max(hitDOMs)]\n",
    "print all_pred[hitDOMs == np.max(hitDOMs)]\n",
    "print RunID[hitDOMs == np.max(hitDOMs)]\n",
    "print EventID[hitDOMs == np.max(hitDOMs)]"
   ]
  },
  {
   "cell_type": "code",
   "execution_count": 7,
   "metadata": {},
   "outputs": [
    {
     "name": "stdout",
     "output_type": "stream",
     "text": [
      "[ 0.  3.  1.  3.  3.  2.  3.  1.  3.  3.  3.  1.  1.  3.  0.  3.  0.  0.\n",
      "  1.]\n",
      "[1 1 0 0 0 0 0 0 1 0 1 3 0 0 1 0 3 3 3]\n",
      "[ 16.  14.  14. -14.  14. -16.  14.  14.  14. -14. -14.  14.  16. -16.  12.\n",
      "  14.  16. -12. -14.]\n",
      "[ 19833.  19836.  19302.  22670.  19359.  19288.   9378.  19011.  22395.\n",
      "  19004.  19004.  19004.  19031.   9281.  22898.  19160.  19704.  19205.\n",
      "  19812.]\n",
      "[ 1472.    46.  9249.  6139.  2991.  8991.  6280.  9170.  8376.  1701.\n",
      "  1021.  9872.  5342.  4992.  2443.  3399.  8048.   680.   283.]\n"
     ]
    }
   ],
   "source": [
    "true_bed = true_label_1[hitDOMs == 100]\n",
    "pred_bed = all_pred[hitDOMs == 100]\n",
    "RID_bed = RunID[hitDOMs == 100]\n",
    "EID_bed = EventID[hitDOMs == 100]\n",
    "prim_bed = Primary_pdg[hitDOMs == 100]\n",
    "\n",
    "\n",
    "print true_bed[pred_bed != true_bed]\n",
    "print pred_bed[pred_bed != true_bed]\n",
    "print prim_bed[pred_bed != true_bed]\n",
    "print RID_bed[pred_bed != true_bed]\n",
    "print EID_bed[pred_bed != true_bed]"
   ]
  },
  {
   "cell_type": "markdown",
   "metadata": {},
   "source": [
    "### Enter RunID and EventID -> get Infos to this event"
   ]
  },
  {
   "cell_type": "code",
   "execution_count": 116,
   "metadata": {},
   "outputs": [
    {
     "name": "stdout",
     "output_type": "stream",
     "text": [
      "Primary: 16.0\n",
      "True Event Type: 2.0\n",
      "Pred Event Type: 3\n",
      "Number of hit DOMs: 1097\n",
      "Detailled Prediction 1.01 & 19.52 & 2.00 & 77.47\n"
     ]
    }
   ],
   "source": [
    "RunIDN = 9281\n",
    "EventIDN = 9447\n",
    "\n",
    "eventindex = np.where(EventID == EventIDN) \n",
    "#print eventindex[0][2]\n",
    "runindex = np.where(RunID == RunIDN)\n",
    "#print runindex[0]\n",
    "\n",
    "for i in xrange(len(eventindex[0])):\n",
    "    index = np.where(runindex[0] == eventindex[0][i])\n",
    "    if index[0] !=0:\n",
    "        break\n",
    "#print index\n",
    "a =  runindex[0][index[0]][0]\n",
    "#print a\n",
    "the_event = predictions_mctrue[\"reco_vals\"][a]\n",
    "\n",
    "print \"Primary: {}\".format(np.abs(the_event[2]))\n",
    "print \"True Event Type: {}\".format(true_label_1[a])\n",
    "print \"Pred Event Type: {}\".format(all_pred[a])\n",
    "print \"Number of hit DOMs: {}\".format(hitDOMs[a])\n",
    "print \"Detailled Prediction {}\".format(' & '.join(['{:.2f}'.format(x*100) for x in pred_label_1[a]]))\n",
    "\n",
    "#print the_event\n",
    "\n"
   ]
  },
  {
   "cell_type": "code",
   "execution_count": null,
   "metadata": {},
   "outputs": [],
   "source": []
  }
 ],
 "metadata": {
  "kernelspec": {
   "display_name": "Python 2",
   "language": "python",
   "name": "python2"
  },
  "language_info": {
   "codemirror_mode": {
    "name": "ipython",
    "version": 2
   },
   "file_extension": ".py",
   "mimetype": "text/x-python",
   "name": "python",
   "nbconvert_exporter": "python",
   "pygments_lexer": "ipython2",
   "version": "2.7.5"
  }
 },
 "nbformat": 4,
 "nbformat_minor": 2
}
