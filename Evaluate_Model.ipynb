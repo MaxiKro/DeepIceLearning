{
 "cells": [
  {
   "cell_type": "code",
   "execution_count": 2,
   "metadata": {
    "collapsed": false
   },
   "outputs": [
    {
     "name": "stderr",
     "output_type": "stream",
     "text": [
      "Using Theano backend.\n",
      "/cvmfs/icecube.opensciencegrid.org/py2-v2/RHEL_6_x86_64/lib/python2.7/site-packages/matplotlib/__init__.py:1318: UserWarning:  This call to matplotlib.use() has no effect\n",
      "because the backend has already been chosen;\n",
      "matplotlib.use() must be called *before* pylab, matplotlib.pyplot,\n",
      "or matplotlib.backends is imported for the first time.\n",
      "\n",
      "  warnings.warn(_use_error_msg)\n",
      "/cvmfs/icecube.opensciencegrid.org/py2-v2/RHEL_6_x86_64/lib/python2.7/site-packages/matplotlib/__init__.py:855: UserWarning: text.fontsize is deprecated and replaced with font.size; please use the latter.\n",
      "  warnings.warn(self.msg_depr % (key, alt_key))\n"
     ]
    }
   ],
   "source": [
    "%matplotlib inline\n",
    "import numpy as np\n",
    "import matplotlib.pyplot as plt\n",
    "import os\n",
    "import sys\n",
    "import keras\n",
    "from keras.models import Sequential, load_model\n",
    "from plot_conf import *"
   ]
  },
  {
   "cell_type": "code",
   "execution_count": 12,
   "metadata": {
    "collapsed": true
   },
   "outputs": [],
   "source": [
    "input_data = np.array(np.load('./charge.npy'))[0:10000]/100\n",
    "output_data = np.load('./truevals.npy')[0:10000]"
   ]
  },
  {
   "cell_type": "code",
   "execution_count": 13,
   "metadata": {
    "collapsed": false
   },
   "outputs": [
    {
     "name": "stdout",
     "output_type": "stream",
     "text": [
      "Range of training dataset 0:7692\n",
      "Range of validation dataset 7693:9230\n",
      "Range of test dataset 9231:10000\n"
     ]
    }
   ],
   "source": [
    "tvt_ratio=[10,2,1] ##ratio of test validation and test dataset\n",
    "data_len = len(input_data)\n",
    "test_end = int(float(tvt_ratio[0])/np.sum(tvt_ratio)*data_len)\n",
    "valid_end = int(float(tvt_ratio[1])/np.sum(tvt_ratio)*data_len)+test_end\n",
    "print 'Range of training dataset {}:{}'.format(0,test_end)\n",
    "print 'Range of validation dataset {}:{}'.format(test_end+1,valid_end)\n",
    "print 'Range of test dataset {}:{}'.format(valid_end+1,data_len)"
   ]
  },
  {
   "cell_type": "code",
   "execution_count": 14,
   "metadata": {
    "collapsed": true
   },
   "outputs": [],
   "source": [
    "test  = input_data[valid_end+1:data_len-1]\n",
    "test_out = np.log10(np.concatenate(output_data[valid_end+1:data_len-1, 0:1]))"
   ]
  },
  {
   "cell_type": "code",
   "execution_count": 15,
   "metadata": {
    "collapsed": true
   },
   "outputs": [],
   "source": [
    "estimator = load_model('./train_hist/model.h5')"
   ]
  },
  {
   "cell_type": "code",
   "execution_count": 16,
   "metadata": {
    "collapsed": false
   },
   "outputs": [
    {
     "name": "stdout",
     "output_type": "stream",
     "text": [
      "768/768 [==============================] - 24s    \n"
     ]
    }
   ],
   "source": [
    "res = estimator.predict(np.expand_dims(test, axis=4), verbose=1)"
   ]
  },
  {
   "cell_type": "code",
   "execution_count": 8,
   "metadata": {
    "collapsed": false
   },
   "outputs": [],
   "source": [
    "plot_data = np.load('./train_hist/2017-07-03/last_model_noCNN_complete.npy')"
   ]
  },
  {
   "cell_type": "code",
   "execution_count": 9,
   "metadata": {
    "collapsed": false
   },
   "outputs": [
    {
     "data": {
      "text/plain": [
       "<matplotlib.figure.Figure at 0x7f87244fec10>"
      ]
     },
     "metadata": {},
     "output_type": "display_data"
    },
    {
     "data": {
      "image/png": "[encoded data removed]",
      "text/plain": [
       "<matplotlib.figure.Figure at 0x7f86f997e9d0>"
      ]
     },
     "metadata": {},
     "output_type": "display_data"
    }
   ],
   "source": [
    "fig, ax= newfig(0.9)\n",
    "ax.scatter(plot_data[1], plot_data[0], color='blue')\n",
    "ax.plot(np.linspace(2,7,10), np.linspace(2,7,10),color='red')\n",
    "ax.set_xlabel(r'$\\log_{10}(E_{true}/GeV)$')\n",
    "ax.set_ylabel(r'$\\log_{10}(E_{reco}/GeV)$')\n",
    "ax.set_xlim(2,7)\n",
    "ax.set_ylim(2,7)\n",
    "#plt.savefig('latest_network.pdf')\n",
    "plt.show()"
   ]
  },
  {
   "cell_type": "code",
   "execution_count": 10,
   "metadata": {
    "collapsed": false
   },
   "outputs": [
    {
     "data": {
      "text/plain": [
       "<matplotlib.figure.Figure at 0x7f86fc398190>"
      ]
     },
     "metadata": {},
     "output_type": "display_data"
    },
    {
     "data": {
      "image/png": "[encoded data removed]",
      "text/plain": [
       "<matplotlib.figure.Figure at 0x7f86fc398550>"
      ]
     },
     "metadata": {},
     "output_type": "display_data"
    }
   ],
   "source": [
    "\n",
    "H, xedges, yedges = np.histogram2d(plot_data[1], plot_data[0], bins=(np.linspace(2,7,30), np.linspace(2,7,30)))\n",
    "H=np.array([np.array(i)/np.sum(i) for i in H])\n",
    "H = H.T  # Let each row list bins with common y range.\n",
    "fig, ax = newfig(0.9)\n",
    "X, Y = np.meshgrid(xedges, yedges)\n",
    "ax.plot(np.linspace(2,7,10), np.linspace(2,7,10),color='red')\n",
    "H= np.ma.array(H)\n",
    "H.mask = H == 0\n",
    "cbar = ax.pcolormesh(X, Y, H)\n",
    "plt.colorbar(cbar)\n",
    "ax.set_xlabel(r'$\\log_{10}(E_{true}/GeV)$')\n",
    "ax.set_ylabel(r'$\\log_{10}(E_{reco}/GeV)$')\n",
    "#plt.savefig('latest_network_density.pdf')\n",
    "plt.show()\n",
    "\n"
   ]
  },
  {
   "cell_type": "code",
   "execution_count": 57,
   "metadata": {
    "collapsed": true
   },
   "outputs": [],
   "source": [
    "epoche = np.concatenate(np.genfromtxt('./train_hist/history2.csv', delimiter=',')[1:,0:1])\n",
    "loss = np.concatenate(np.genfromtxt('./train_hist/history2.csv', delimiter=',')[1:,2:3])\n",
    "val_loss = np.concatenate(np.genfromtxt('./train_hist/history2.csv', delimiter=',')[1:,4:5])"
   ]
  },
  {
   "cell_type": "code",
   "execution_count": 59,
   "metadata": {
    "collapsed": false
   },
   "outputs": [
    {
     "data": {
      "image/png": "[encoded data removed]",
      "text/plain": [
       "<matplotlib.figure.Figure at 0x11af59350>"
      ]
     },
     "metadata": {},
     "output_type": "display_data"
    }
   ],
   "source": [
    "plt.plot(epoche, loss, color = 'blue')\n",
    "plt.plot(epoche, val_loss, color = 'red')\n",
    "plt.show()"
   ]
  },
  {
   "cell_type": "code",
   "execution_count": null,
   "metadata": {
    "collapsed": true
   },
   "outputs": [],
   "source": []
  }
 ],
 "metadata": {
  "kernelspec": {
   "display_name": "Python 2",
   "language": "python",
   "name": "python2"
  },
  "language_info": {
   "codemirror_mode": {
    "name": "ipython",
    "version": 2
   },
   "file_extension": ".py",
   "mimetype": "text/x-python",
   "name": "python",
   "nbconvert_exporter": "python",
   "pygments_lexer": "ipython2",
   "version": "2.7.10"
  }
 },
 "nbformat": 4,
 "nbformat_minor": 1
}
