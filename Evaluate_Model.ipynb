{
 "cells": [
  {
   "cell_type": "code",
   "execution_count": 11,
   "metadata": {
    "collapsed": false
   },
   "outputs": [],
   "source": [
    "%matplotlib inline\n",
    "import numpy as np\n",
    "import matplotlib.pyplot as plt\n",
    "import os\n",
    "import sys\n",
    "import keras\n",
    "from keras.models import Sequential, load_model\n",
    "from plot_conf import *"
   ]
  },
  {
   "cell_type": "code",
   "execution_count": 12,
   "metadata": {
    "collapsed": true
   },
   "outputs": [],
   "source": [
    "input_data = np.array(np.load('./charge.npy'))[0:10000]/100\n",
    "output_data = np.load('./truevals.npy')[0:10000]"
   ]
  },
  {
   "cell_type": "code",
   "execution_count": 13,
   "metadata": {
    "collapsed": false
   },
   "outputs": [
    {
     "name": "stdout",
     "output_type": "stream",
     "text": [
      "Range of training dataset 0:7692\n",
      "Range of validation dataset 7693:9230\n",
      "Range of test dataset 9231:10000\n"
     ]
    }
   ],
   "source": [
    "tvt_ratio=[10,2,1] ##ratio of test validation and test dataset\n",
    "data_len = len(input_data)\n",
    "test_end = int(float(tvt_ratio[0])/np.sum(tvt_ratio)*data_len)\n",
    "valid_end = int(float(tvt_ratio[1])/np.sum(tvt_ratio)*data_len)+test_end\n",
    "print 'Range of training dataset {}:{}'.format(0,test_end)\n",
    "print 'Range of validation dataset {}:{}'.format(test_end+1,valid_end)\n",
    "print 'Range of test dataset {}:{}'.format(valid_end+1,data_len)"
   ]
  },
  {
   "cell_type": "code",
   "execution_count": 14,
   "metadata": {
    "collapsed": true
   },
   "outputs": [],
   "source": [
    "test  = input_data[valid_end+1:data_len-1]\n",
    "test_out = np.log10(np.concatenate(output_data[valid_end+1:data_len-1, 0:1]))"
   ]
  },
  {
   "cell_type": "code",
   "execution_count": 15,
   "metadata": {
    "collapsed": false
   },
   "outputs": [],
   "source": [
    "estimator = load_model('./train_hist/model.h5')"
   ]
  },
  {
   "cell_type": "code",
   "execution_count": 16,
   "metadata": {
    "collapsed": false
   },
   "outputs": [
    {
     "name": "stdout",
     "output_type": "stream",
     "text": [
      "768/768 [==============================] - 24s    \n"
     ]
    }
   ],
   "source": [
    "res = estimator.predict(np.expand_dims(test, axis=4), verbose=1)"
   ]
  },
  {
   "cell_type": "code",
   "execution_count": 21,
   "metadata": {
    "collapsed": false
   },
   "outputs": [],
   "source": [
    "plot_data = np.load('./train_hist/model.h5.npy')"
   ]
  },
  {
   "cell_type": "code",
   "execution_count": 25,
   "metadata": {
    "collapsed": false
   },
   "outputs": [
    {
     "data": {
      "text/plain": [
       "<matplotlib.figure.Figure at 0x7f4619b87490>"
      ]
     },
     "metadata": {},
     "output_type": "display_data"
    },
    {
     "data": {
      "image/png": "[encoded data removed]",
      "text/plain": [
       "<matplotlib.figure.Figure at 0x7f4619b88290>"
      ]
     },
     "metadata": {},
     "output_type": "display_data"
    }
   ],
   "source": [
    "fig, ax= newfig(0.9)\n",
    "ax.scatter(plot_data[1], plot_data[0])\n",
    "ax.plot(np.linspace(2,7,10), np.linspace(2,7,10),color='red')\n",
    "ax.set_xlabel(r'$\\log_{10}(E_{true}/GeV)$')\n",
    "ax.set_ylabel(r'$\\log_{10}(E_{reco}/GeV)$')\n",
    "ax.set_xlim(2,7)\n",
    "ax.set_ylim(2,7)\n",
    "plt.savefig('time_conv3d_2dense.pdf')\n",
    "plt.show()"
   ]
  },
  {
   "cell_type": "code",
   "execution_count": 9,
   "metadata": {
    "collapsed": false
   },
   "outputs": [
    {
     "data": {
      "text/plain": [
       "<matplotlib.image.AxesImage at 0x7f45c89393d0>"
      ]
     },
     "execution_count": 9,
     "metadata": {},
     "output_type": "execute_result"
    },
    {
     "data": {
      "text/plain": [
       "<matplotlib.figure.Figure at 0x7f45c89392d0>"
      ]
     },
     "metadata": {},
     "output_type": "display_data"
    },
    {
     "name": "stderr",
     "output_type": "stream",
     "text": [
      "/cvmfs/icecube.opensciencegrid.org/py2-v2/RHEL_6_x86_64/lib/python2.7/site-packages/numpy/ma/core.py:3900: UserWarning: Warning: converting a masked element to nan.\n",
      "  warnings.warn(\"Warning: converting a masked element to nan.\")\n",
      "/cvmfs/icecube.opensciencegrid.org/py2-v2/RHEL_6_x86_64/lib/python2.7/site-packages/matplotlib/figure.py:1653: UserWarning: This figure includes Axes that are not compatible with tight_layout, so its results might be incorrect.\n",
      "  warnings.warn(\"This figure includes Axes that are not \"\n"
     ]
    },
    {
     "data": {
      "image/png": "[encoded data removed]",
      "text/plain": [
       "<matplotlib.figure.Figure at 0x7f45c8939790>"
      ]
     },
     "metadata": {},
     "output_type": "display_data"
    }
   ],
   "source": [
    "\n",
    "H, xedges, yedges = np.histogram2d(test_out, np.squeeze(res), bins=(np.linspace(2,7,10), np.linspace(2,7,10)))\n",
    "H = H.T  # Let each row list bins with common y range.\n",
    "H=[np.array(i)/np.sum(i) for i in H]\n",
    "fig, ax = newfig(0.9)\n",
    "plt.imshow(H, interpolation='nearest', origin='low',\n",
    "           extent=[xedges[0], xedges[-1], yedges[0], yedges[-1]])\n",
    "\n"
   ]
  },
  {
   "cell_type": "code",
   "execution_count": null,
   "metadata": {
    "collapsed": true
   },
   "outputs": [],
   "source": []
  }
 ],
 "metadata": {
  "kernelspec": {
   "display_name": "Python 2",
   "language": "python",
   "name": "python2"
  },
  "language_info": {
   "codemirror_mode": {
    "name": "ipython",
    "version": 2
   },
   "file_extension": ".py",
   "mimetype": "text/x-python",
   "name": "python",
   "nbconvert_exporter": "python",
   "pygments_lexer": "ipython2",
   "version": "2.7.10"
  }
 },
 "nbformat": 4,
 "nbformat_minor": 0
}
