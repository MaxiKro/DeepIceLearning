{
 "cells": [
  {
   "cell_type": "markdown",
   "metadata": {},
   "source": [
    "# see what angles get reconstructed well #"
   ]
  },
  {
   "cell_type": "code",
   "execution_count": null,
   "metadata": {
    "collapsed": true
   },
   "outputs": [],
   "source": [
    "import jkutils\n",
    "import os\n",
    "os.environ[\"THEANO_FLAGS\"] = \"mode=FAST_RUN,device=gpu,floatX=float32\" \n",
    "os.environ[\"PATH\"] += os.pathsep + '/usr/local/cuda/bin/'\n",
    "os.environ['PYTHONUNBUFFERED'] = '1'\n",
    "import sys\n",
    "import numpy as np\n",
    "with jkutils.suppress_stdout_stderr(): #prevents printed info from theano\n",
    "    import theano\n",
    "    # theano.config.device = 'gpu'\n",
    "    # theano.config.floatX = 'float32'\n",
    "    import keras\n",
    "from keras.models import Sequential, load_model\n",
    "from keras.utils import np_utils\n",
    "from keras.utils.io_utils import HDF5Matrix\n",
    "from sklearn.model_selection import train_test_split\n",
    "import h5py\n",
    "import tables\n",
    "import math\n",
    "import resource\n",
    "import shelve\n",
    "import itertools"
   ]
  },
  {
   "cell_type": "code",
   "execution_count": null,
   "metadata": {
    "collapsed": true
   },
   "outputs": [],
   "source": [
    "    file_location = '/data/user/jkager/NN_Reco/johannes/updownclassification_2/'\n",
    "    today = '2017-07-29'\n",
    "    project_name = 'time10_h0_v1'\n",
    "    project_folder = 'train_hist/{}/{}'.format(today, project_name)\n",
    "    print \"looking for\", project_folder\n",
    "    if not os.path.exists('{}'.format(os.path.join(file_location,project_folder))):\n",
    "        print \"project not found. exiting...\"\n",
    "        sys.exit(-1)\n",
    "    shelf = shelve.open(os.path.join(file_location, project_folder, 'run_info.shlf'))\n",
    "    input_files = shelf['Files']\n",
    "    train_inds = shelf['Train_Inds'] \n",
    "    valid_inds = shelf['Valid_Inds']\n",
    "    test_inds = shelf['Test_Inds']\n",
    "    shelf.close()\n",
    "\n",
    "    input_data, out_data, file_len = read_files(input_files.split(':'), data_location)\n",
    "    print('\\n Load the Model (final_network.h5) \\n')\n",
    "    model = load_model(os.path.join(\\\n",
    "    file_location,'train_hist/{}/{}/final_network.h5'.format(today, project_name)))\n",
    "  \n",
    "    print('\\n Calculate Results... \\n')\n",
    "    res = []\n",
    "    test_out = []\n",
    "  \n",
    "    for i in range(len(input_data)):\n",
    "        print('Predict Values for {}'.format(input_files[i]))\n",
    "        test_in_chunk  = np.array(map(np.ndarray.flatten, preprocess(input_data[i][test_inds[i][0]:test_inds[i][1]])))\n",
    "        test_out_chunk = zenith_to_binary(out_data[i][test_inds[i][0]:test_inds[i][1],zenith:zenith+1])\n",
    "        res_chunk = model.predict(test_in_chunk, verbose=int(parser.get('Training_Parameters', 'verbose')))\n",
    "        res.extend(list(res_chunk))\n",
    "        test_out.extend(list(test_out_chunk))\n",
    "  \n",
    "    res = np.squeeze(res)\n",
    "    test_out = np.squeeze(test_out)\n",
    "    np.save(os.path.join(file_location,'train_hist/{}/{}/test_results.npy'.format(today, project_name)), \n",
    "      [res, test_out])\n",
    "    correct = np.sum(res == test_out)\n",
    "    total = len(res)\n",
    "    print \"{} / {} = {:6.2f}%\".format(correct, total, float(correct)/total*100)\n",
    "  \n",
    "    print(' \\n Finished .... ')"
   ]
  }
 ],
 "metadata": {
  "kernelspec": {
   "display_name": "Python 2",
   "language": "python",
   "name": "python2"
  },
  "language_info": {
   "codemirror_mode": {
    "name": "ipython",
    "version": 2
   },
   "file_extension": ".py",
   "mimetype": "text/x-python",
   "name": "python",
   "nbconvert_exporter": "python",
   "pygments_lexer": "ipython2",
   "version": "2.7.10"
  }
 },
 "nbformat": 4,
 "nbformat_minor": 0
}
